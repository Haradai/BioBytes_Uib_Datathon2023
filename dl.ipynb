{
 "cells": [
  {
   "cell_type": "code",
   "execution_count": null,
   "metadata": {},
   "outputs": [],
   "source": [
    "conditions_df = pd.read_csv(\"competition_dataset/env_parameter_sample.csv\")\n",
    "conditions_df"
   ]
  },
  {
   "cell_type": "code",
   "execution_count": null,
   "metadata": {},
   "outputs": [],
   "source": [
    "for j,row in conditions_df.iterrows():\n",
    "    \n",
    "    if j == 0:\n",
    "        continue\n",
    "    \n",
    "    else:\n",
    "        if row[\"sample_name\"] == \"No_sample\":\n",
    "            if row[\"time\"][:15] == conditions_df.iloc[j-1][\"time\"][:15]:\n",
    "                if int(row[\"time\"][-1]) == int(conditions_df.iloc[j-1][\"time\"][-1]) + 1:\n",
    "                    conditions_df.loc[j,\"sample_name\"] = conditions_df.iloc[j-1][\"sample_name\"]\n",
    "        \n"
   ]
  },
  {
   "cell_type": "code",
   "execution_count": null,
   "metadata": {},
   "outputs": [],
   "source": [
    "import torch\n",
    "import math"
   ]
  },
  {
   "cell_type": "code",
   "execution_count": null,
   "metadata": {},
   "outputs": [],
   "source": [
    "class Dataset():\n",
    "    def __init__(self, species_df, conditions):\n",
    "        self.species_df = species_df\n",
    "        self.conditions = conditions\n",
    "\n",
    "        #diferent species\n",
    "        self.species_vocab = species_df[\"Specie\"].unique().tolist()\n",
    "\n",
    "    \n",
    "    def __len__(self):\n",
    "        return len(self.species_df)*3 #because 3 timesteps\n",
    "    \n",
    "    def __getitem__(self, idx):\n",
    "        assert ((idx >= 0) & (idx < self.__len__())), \"Dataset index out of range\"\n",
    "\n",
    "        real_id = int(math.ceil((idx+1)/3))\n",
    "        t = 2 - (real_id*3 - (idx+1) ) +1\n",
    "        \n",
    "        real_id -= 1 #fix\n",
    "        \n",
    "        #specie one hot\n",
    "        spc_name = self.species_df.iloc[real_id][\"Specie\"]\n",
    "        one_hot_idx = self.species_vocab.index(spc_name)\n",
    "        y = self.species_df.iloc[real_id][\"t\"+str(t)]\n",
    "        \n",
    "        return self.species_df.iloc[real_id][\"id\"] , torch.tensor([one_hot_idx],dtype=int) , torch.tensor(conditions[ str(self.species_df.iloc[real_id][\"System\"]) + str(self.species_df.iloc[real_id][\"Treatment\"]) ],dtype=torch.float) , torch.tensor(y,dtype=torch.float)"
   ]
  },
  {
   "cell_type": "code",
   "execution_count": null,
   "metadata": {},
   "outputs": [],
   "source": [
    "#wrapper dataset\n",
    "class train_dataset():\n",
    "    def __init__(self,dataset):\n",
    "        self.dataset = dataset\n",
    "        self.lenght = len(dataset) - int(len(dataset)/4)\n",
    "\n",
    "    def __len__(self):\n",
    "        return self.lenght\n",
    "\n",
    "    def __getitem__(self,idx):\n",
    "        assert ((idx >= 0) & (idx < self.lenght)), \"Dataset index out of range\"\n",
    "        return self.dataset.__getitem__(idx)\n",
    "\n",
    "class test_dataset():\n",
    "    def __init__(self,dataset):\n",
    "        self.dataset = dataset\n",
    "        self.lenght = int(len(dataset)/4)\n",
    "        self.offset = int(len(dataset)/4)*3\n",
    "    \n",
    "    def __len__(self):\n",
    "        return self.lenght\n",
    "\n",
    "    def __getitem__(self,idx):\n",
    "        assert ((idx >= 0) & (idx < self.lenght)), \"Dataset index out of range\"\n",
    "        return self.dataset.__getitem__(idx+self.offset)"
   ]
  },
  {
   "cell_type": "code",
   "execution_count": null,
   "metadata": {},
   "outputs": [],
   "source": []
  }
 ],
 "metadata": {
  "kernelspec": {
   "display_name": "Python 3.9.6 64-bit",
   "language": "python",
   "name": "python3"
  },
  "language_info": {
   "name": "python",
   "version": "3.9.6"
  },
  "orig_nbformat": 4,
  "vscode": {
   "interpreter": {
    "hash": "31f2aee4e71d21fbe5cf8b01ff0e069b9275f58929596ceb00d14d90e3e16cd6"
   }
  }
 },
 "nbformat": 4,
 "nbformat_minor": 2
}
