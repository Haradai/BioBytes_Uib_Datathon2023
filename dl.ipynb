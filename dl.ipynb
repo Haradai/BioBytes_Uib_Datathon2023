{
 "cells": [
  {
   "cell_type": "code",
   "execution_count": 1,
   "metadata": {},
   "outputs": [],
   "source": [
    "import pandas as pd\n",
    "import torch\n",
    "import numpy as np\n",
    "from tqdm import tqdm\n",
    "\n",
    "import torch.nn as nn\n",
    "import torch.optim as optim\n",
    "import numpy as np\n",
    "from torch.utils.data import TensorDataset, DataLoader\n",
    "\n",
    "from icecream import ic"
   ]
  },
  {
   "cell_type": "code",
   "execution_count": 2,
   "metadata": {},
   "outputs": [
    {
     "data": {
      "text/html": [
       "<div>\n",
       "<style scoped>\n",
       "    .dataframe tbody tr th:only-of-type {\n",
       "        vertical-align: middle;\n",
       "    }\n",
       "\n",
       "    .dataframe tbody tr th {\n",
       "        vertical-align: top;\n",
       "    }\n",
       "\n",
       "    .dataframe thead th {\n",
       "        text-align: right;\n",
       "    }\n",
       "</style>\n",
       "<table border=\"1\" class=\"dataframe\">\n",
       "  <thead>\n",
       "    <tr style=\"text-align: right;\">\n",
       "      <th></th>\n",
       "      <th>time</th>\n",
       "      <th>TAN_DF</th>\n",
       "      <th>pH_DF</th>\n",
       "      <th>NO2_DF</th>\n",
       "      <th>Alkalinity_DF</th>\n",
       "      <th>TAN_DGS</th>\n",
       "      <th>pH_DGS</th>\n",
       "      <th>NO2_DGS</th>\n",
       "      <th>Alkalinity_DGS</th>\n",
       "      <th>Flow_rate</th>\n",
       "      <th>...</th>\n",
       "      <th>TAN_removal_biocarrier</th>\n",
       "      <th>co2_mgl</th>\n",
       "      <th>h2s_ugl</th>\n",
       "      <th>o2_mgl</th>\n",
       "      <th>o2_sat</th>\n",
       "      <th>salinity</th>\n",
       "      <th>temp</th>\n",
       "      <th>sample_name</th>\n",
       "      <th>System</th>\n",
       "      <th>TimeStamp</th>\n",
       "    </tr>\n",
       "  </thead>\n",
       "  <tbody>\n",
       "    <tr>\n",
       "      <th>0</th>\n",
       "      <td>29/08/2022 08:30</td>\n",
       "      <td>0.24</td>\n",
       "      <td>7.880</td>\n",
       "      <td>0.64</td>\n",
       "      <td>342.4</td>\n",
       "      <td>0.18</td>\n",
       "      <td>7.860</td>\n",
       "      <td>0.71</td>\n",
       "      <td>344.0</td>\n",
       "      <td>60.0</td>\n",
       "      <td>...</td>\n",
       "      <td>0.000034</td>\n",
       "      <td>7.03</td>\n",
       "      <td>0.16</td>\n",
       "      <td>7.79</td>\n",
       "      <td>83.78</td>\n",
       "      <td>14.88</td>\n",
       "      <td>15.1</td>\n",
       "      <td>B1_1</td>\n",
       "      <td>B</td>\n",
       "      <td>1</td>\n",
       "    </tr>\n",
       "    <tr>\n",
       "      <th>1</th>\n",
       "      <td>29/08/2022 08:31</td>\n",
       "      <td>0.28</td>\n",
       "      <td>8.070</td>\n",
       "      <td>0.64</td>\n",
       "      <td>433.4</td>\n",
       "      <td>0.22</td>\n",
       "      <td>8.020</td>\n",
       "      <td>0.55</td>\n",
       "      <td>433.9</td>\n",
       "      <td>60.0</td>\n",
       "      <td>...</td>\n",
       "      <td>0.000038</td>\n",
       "      <td>4.93</td>\n",
       "      <td>0.32</td>\n",
       "      <td>8.41</td>\n",
       "      <td>89.33</td>\n",
       "      <td>13.02</td>\n",
       "      <td>15.1</td>\n",
       "      <td>A1_1</td>\n",
       "      <td>A</td>\n",
       "      <td>1</td>\n",
       "    </tr>\n",
       "    <tr>\n",
       "      <th>2</th>\n",
       "      <td>05/09/2022 08:30</td>\n",
       "      <td>0.16</td>\n",
       "      <td>7.600</td>\n",
       "      <td>0.46</td>\n",
       "      <td>234.0</td>\n",
       "      <td>0.12</td>\n",
       "      <td>7.900</td>\n",
       "      <td>0.62</td>\n",
       "      <td>234.0</td>\n",
       "      <td>60.0</td>\n",
       "      <td>...</td>\n",
       "      <td>0.000023</td>\n",
       "      <td>8.76</td>\n",
       "      <td>0.13</td>\n",
       "      <td>7.57</td>\n",
       "      <td>81.98</td>\n",
       "      <td>16.36</td>\n",
       "      <td>15.3</td>\n",
       "      <td>B1_2</td>\n",
       "      <td>B</td>\n",
       "      <td>2</td>\n",
       "    </tr>\n",
       "    <tr>\n",
       "      <th>3</th>\n",
       "      <td>05/09/2022 08:31</td>\n",
       "      <td>0.15</td>\n",
       "      <td>7.700</td>\n",
       "      <td>0.46</td>\n",
       "      <td>233.4</td>\n",
       "      <td>0.04</td>\n",
       "      <td>8.000</td>\n",
       "      <td>0.35</td>\n",
       "      <td>232.0</td>\n",
       "      <td>60.0</td>\n",
       "      <td>...</td>\n",
       "      <td>0.000070</td>\n",
       "      <td>7.61</td>\n",
       "      <td>0.20</td>\n",
       "      <td>8.20</td>\n",
       "      <td>86.99</td>\n",
       "      <td>13.89</td>\n",
       "      <td>15.0</td>\n",
       "      <td>A1_2</td>\n",
       "      <td>A</td>\n",
       "      <td>2</td>\n",
       "    </tr>\n",
       "    <tr>\n",
       "      <th>4</th>\n",
       "      <td>12/09/2022 08:30</td>\n",
       "      <td>0.16</td>\n",
       "      <td>7.565</td>\n",
       "      <td>0.27</td>\n",
       "      <td>204.4</td>\n",
       "      <td>0.09</td>\n",
       "      <td>7.828</td>\n",
       "      <td>0.22</td>\n",
       "      <td>218.3</td>\n",
       "      <td>60.0</td>\n",
       "      <td>...</td>\n",
       "      <td>0.000050</td>\n",
       "      <td>9.08</td>\n",
       "      <td>0.11</td>\n",
       "      <td>7.40</td>\n",
       "      <td>82.05</td>\n",
       "      <td>16.98</td>\n",
       "      <td>15.2</td>\n",
       "      <td>B1_3</td>\n",
       "      <td>B</td>\n",
       "      <td>3</td>\n",
       "    </tr>\n",
       "  </tbody>\n",
       "</table>\n",
       "<p>5 rows × 22 columns</p>\n",
       "</div>"
      ],
      "text/plain": [
       "               time  TAN_DF  pH_DF  NO2_DF  Alkalinity_DF  TAN_DGS  pH_DGS  \\\n",
       "0  29/08/2022 08:30    0.24  7.880    0.64          342.4     0.18   7.860   \n",
       "1  29/08/2022 08:31    0.28  8.070    0.64          433.4     0.22   8.020   \n",
       "2  05/09/2022 08:30    0.16  7.600    0.46          234.0     0.12   7.900   \n",
       "3  05/09/2022 08:31    0.15  7.700    0.46          233.4     0.04   8.000   \n",
       "4  12/09/2022 08:30    0.16  7.565    0.27          204.4     0.09   7.828   \n",
       "\n",
       "   NO2_DGS  Alkalinity_DGS  Flow_rate  ...  TAN_removal_biocarrier  co2_mgl  \\\n",
       "0     0.71           344.0       60.0  ...                0.000034     7.03   \n",
       "1     0.55           433.9       60.0  ...                0.000038     4.93   \n",
       "2     0.62           234.0       60.0  ...                0.000023     8.76   \n",
       "3     0.35           232.0       60.0  ...                0.000070     7.61   \n",
       "4     0.22           218.3       60.0  ...                0.000050     9.08   \n",
       "\n",
       "   h2s_ugl  o2_mgl  o2_sat  salinity  temp  sample_name  System TimeStamp  \n",
       "0     0.16    7.79   83.78     14.88  15.1         B1_1       B         1  \n",
       "1     0.32    8.41   89.33     13.02  15.1         A1_1       A         1  \n",
       "2     0.13    7.57   81.98     16.36  15.3         B1_2       B         2  \n",
       "3     0.20    8.20   86.99     13.89  15.0         A1_2       A         2  \n",
       "4     0.11    7.40   82.05     16.98  15.2         B1_3       B         3  \n",
       "\n",
       "[5 rows x 22 columns]"
      ]
     },
     "execution_count": 2,
     "metadata": {},
     "output_type": "execute_result"
    }
   ],
   "source": [
    "conditions_df = pd.read_csv(\"conditions_df.csv\")\n",
    "conditions_df.head()"
   ]
  },
  {
   "cell_type": "code",
   "execution_count": 3,
   "metadata": {},
   "outputs": [
    {
     "data": {
      "text/html": [
       "<div>\n",
       "<style scoped>\n",
       "    .dataframe tbody tr th:only-of-type {\n",
       "        vertical-align: middle;\n",
       "    }\n",
       "\n",
       "    .dataframe tbody tr th {\n",
       "        vertical-align: top;\n",
       "    }\n",
       "\n",
       "    .dataframe thead th {\n",
       "        text-align: right;\n",
       "    }\n",
       "</style>\n",
       "<table border=\"1\" class=\"dataframe\">\n",
       "  <thead>\n",
       "    <tr style=\"text-align: right;\">\n",
       "      <th></th>\n",
       "      <th>id</th>\n",
       "      <th>Specie</th>\n",
       "      <th>System</th>\n",
       "      <th>Treatment</th>\n",
       "      <th>Replica</th>\n",
       "      <th>t1</th>\n",
       "      <th>t2</th>\n",
       "      <th>t3</th>\n",
       "      <th>slope</th>\n",
       "      <th>var</th>\n",
       "      <th>std</th>\n",
       "      <th>mean</th>\n",
       "    </tr>\n",
       "  </thead>\n",
       "  <tbody>\n",
       "    <tr>\n",
       "      <th>0</th>\n",
       "      <td>Homo sapiens_A1_A</td>\n",
       "      <td>Homo sapiens</td>\n",
       "      <td>A</td>\n",
       "      <td>1</td>\n",
       "      <td>A</td>\n",
       "      <td>0.262329</td>\n",
       "      <td>0.327225</td>\n",
       "      <td>0.831947</td>\n",
       "      <td>0.284809</td>\n",
       "      <td>0.064824</td>\n",
       "      <td>0.254606</td>\n",
       "      <td>0.473834</td>\n",
       "    </tr>\n",
       "    <tr>\n",
       "      <th>1</th>\n",
       "      <td>Homo sapiens_A1_B</td>\n",
       "      <td>Homo sapiens</td>\n",
       "      <td>A</td>\n",
       "      <td>1</td>\n",
       "      <td>B</td>\n",
       "      <td>0.318878</td>\n",
       "      <td>0.447284</td>\n",
       "      <td>0.941915</td>\n",
       "      <td>0.311519</td>\n",
       "      <td>0.072147</td>\n",
       "      <td>0.268602</td>\n",
       "      <td>0.569359</td>\n",
       "    </tr>\n",
       "    <tr>\n",
       "      <th>2</th>\n",
       "      <td>Homo sapiens_A1_C</td>\n",
       "      <td>Homo sapiens</td>\n",
       "      <td>A</td>\n",
       "      <td>1</td>\n",
       "      <td>C</td>\n",
       "      <td>0.286041</td>\n",
       "      <td>0.518135</td>\n",
       "      <td>0.730994</td>\n",
       "      <td>0.222476</td>\n",
       "      <td>0.033018</td>\n",
       "      <td>0.181708</td>\n",
       "      <td>0.511723</td>\n",
       "    </tr>\n",
       "    <tr>\n",
       "      <th>3</th>\n",
       "      <td>Homo sapiens_A2_A</td>\n",
       "      <td>Homo sapiens</td>\n",
       "      <td>A</td>\n",
       "      <td>2</td>\n",
       "      <td>A</td>\n",
       "      <td>0.641026</td>\n",
       "      <td>0.587084</td>\n",
       "      <td>0.000000</td>\n",
       "      <td>-0.320513</td>\n",
       "      <td>0.084277</td>\n",
       "      <td>0.290305</td>\n",
       "      <td>0.409370</td>\n",
       "    </tr>\n",
       "    <tr>\n",
       "      <th>4</th>\n",
       "      <td>Homo sapiens_A2_B</td>\n",
       "      <td>Homo sapiens</td>\n",
       "      <td>A</td>\n",
       "      <td>2</td>\n",
       "      <td>B</td>\n",
       "      <td>0.729927</td>\n",
       "      <td>0.543478</td>\n",
       "      <td>0.000000</td>\n",
       "      <td>-0.364964</td>\n",
       "      <td>0.095881</td>\n",
       "      <td>0.309646</td>\n",
       "      <td>0.424468</td>\n",
       "    </tr>\n",
       "  </tbody>\n",
       "</table>\n",
       "</div>"
      ],
      "text/plain": [
       "                  id        Specie System  Treatment Replica        t1  \\\n",
       "0  Homo sapiens_A1_A  Homo sapiens      A          1       A  0.262329   \n",
       "1  Homo sapiens_A1_B  Homo sapiens      A          1       B  0.318878   \n",
       "2  Homo sapiens_A1_C  Homo sapiens      A          1       C  0.286041   \n",
       "3  Homo sapiens_A2_A  Homo sapiens      A          2       A  0.641026   \n",
       "4  Homo sapiens_A2_B  Homo sapiens      A          2       B  0.729927   \n",
       "\n",
       "         t2        t3     slope       var       std      mean  \n",
       "0  0.327225  0.831947  0.284809  0.064824  0.254606  0.473834  \n",
       "1  0.447284  0.941915  0.311519  0.072147  0.268602  0.569359  \n",
       "2  0.518135  0.730994  0.222476  0.033018  0.181708  0.511723  \n",
       "3  0.587084  0.000000 -0.320513  0.084277  0.290305  0.409370  \n",
       "4  0.543478  0.000000 -0.364964  0.095881  0.309646  0.424468  "
      ]
     },
     "execution_count": 3,
     "metadata": {},
     "output_type": "execute_result"
    }
   ],
   "source": [
    "species_df = pd.read_csv(\"sample_by_specie_timewise.csv\")\n",
    "species_df.fillna(0,inplace=True)\n",
    "species_df.head()"
   ]
  },
  {
   "cell_type": "code",
   "execution_count": 4,
   "metadata": {},
   "outputs": [
    {
     "data": {
      "text/plain": [
       "-0.00291974212837522"
      ]
     },
     "execution_count": 4,
     "metadata": {},
     "output_type": "execute_result"
    }
   ],
   "source": [
    "species_df[\"slope\"].mean()"
   ]
  },
  {
   "cell_type": "markdown",
   "metadata": {},
   "source": [
    "Remove rows with value 0"
   ]
  },
  {
   "cell_type": "code",
   "execution_count": 5,
   "metadata": {},
   "outputs": [],
   "source": [
    "species_df = species_df[species_df[\"slope\"] != 0.0]"
   ]
  },
  {
   "cell_type": "code",
   "execution_count": 6,
   "metadata": {},
   "outputs": [
    {
     "data": {
      "text/plain": [
       "-0.07209545438160118"
      ]
     },
     "execution_count": 6,
     "metadata": {},
     "output_type": "execute_result"
    }
   ],
   "source": [
    "species_df[\"slope\"].mean()"
   ]
  },
  {
   "cell_type": "code",
   "execution_count": 7,
   "metadata": {},
   "outputs": [],
   "source": [
    "columns =[\"TAN_DF\",\"NO2_DF\",\"TAN_DGS\",\"NO2_DGS\",\"TAN_removal_biocarrier\",\"co2_mgl\",\"h2s_ugl\"]"
   ]
  },
  {
   "cell_type": "code",
   "execution_count": 8,
   "metadata": {},
   "outputs": [],
   "source": [
    "import itertools\n",
    "class Dataset():\n",
    "    def __init__(self, species_df, conditions):\n",
    "        self.species_df = species_df\n",
    "        self.conditions = conditions\n",
    "\n",
    "        #diferent species\n",
    "        self.species_vocab = species_df[\"Specie\"].unique().tolist()\n",
    "        self.treatments_vocab = species_df[\"Treatment\"].unique().tolist()\n",
    "        self.system_vocab = species_df[\"System\"].unique().tolist()\n",
    "        self.combinations = [f\"{system}_{treatment}\" for system in self.system_vocab for treatment in self.treatments_vocab]\n",
    "        \n",
    "    def __len__(self):\n",
    "        return len(self.species_df)\n",
    "    \n",
    "    def __getitem__(self, idx):\n",
    "        assert ((idx >= 0) & (idx < self.__len__())), \"Dataset index out of range\"\n",
    "\n",
    "        row =  self.species_df.iloc[idx]\n",
    "        one_hot_specie = self.species_vocab.index(row[\"Specie\"]) #one hot specie\n",
    "\n",
    "        cond_by_t = []\n",
    "        for t in range(1,4):\n",
    "            conditions = self.conditions[(self.conditions[\"System\"] == row[\"System\"]) & (self.conditions[\"Treatment\"] == row[\"Treatment\"]) & (self.conditions[\"TimeStamp\"] == t)][columns]\n",
    "            if len(conditions) == 0:\n",
    "                cond_by_t.append([0]*len(columns))\n",
    "            else:\n",
    "                cond_by_t.append(conditions.iloc[0].tolist())\n",
    "        \n",
    "        #compute the slope of each cond_by_t\n",
    "        cond_by_t = np.array(cond_by_t)\n",
    "\n",
    "        slopes = np.diff(cond_by_t, axis=0)  # Take the differences along the first axis (axis=0)\n",
    "        slopes = slopes.mean(axis=0, keepdims=True)  # Calculate the mean along the first axis to get shape (1, 20)\n",
    "        \n",
    "        encoding = str(row[\"System\"]) + \"_\" + str(row[\"Treatment\"])\n",
    "        one_hot_specie = self.species_vocab.index(row[\"Specie\"])\n",
    "        return  torch.tensor(one_hot_specie,dtype=int), torch.tensor(self.combinations.index(encoding),dtype=int), torch.tensor(slopes[0],dtype=torch.float32), torch.tensor(row[\"slope\"],dtype=torch.float32)"
   ]
  },
  {
   "cell_type": "code",
   "execution_count": 9,
   "metadata": {},
   "outputs": [
    {
     "data": {
      "text/plain": [
       "(tensor(0),\n",
       " tensor(2),\n",
       " tensor([-9.0000e-02, -8.0000e-02, -5.0000e-02, -6.0000e-02, -2.9727e-05,\n",
       "         -4.3150e+00, -1.4000e-01]),\n",
       " tensor(-0.2435))"
      ]
     },
     "execution_count": 9,
     "metadata": {},
     "output_type": "execute_result"
    }
   ],
   "source": [
    "dataset = Dataset(species_df,conditions_df)\n",
    "dataset.__getitem__(6)"
   ]
  },
  {
   "cell_type": "code",
   "execution_count": 10,
   "metadata": {},
   "outputs": [],
   "source": [
    "from torch.utils.data import DataLoader, Subset, random_split\n",
    "\n",
    "# Assuming you have already defined your 'Dataset' class and 'dataset' object\n",
    "\n",
    "# Split your dataset into training and testing subsets\n",
    "train_size = int(0.8 * len(dataset))  # 80% for training\n",
    "test_size = len(dataset) - train_size  # 20% for testing\n",
    "train_dataset, test_dataset = random_split(dataset, [train_size, test_size])\n",
    "\n",
    "# Create DataLoaders for the training and testing datasets\n",
    "batch_size = 30 # You can adjust the batch size as needed\n",
    "train_loader = DataLoader(train_dataset, batch_size=batch_size, shuffle=True)\n",
    "test_loader = DataLoader(test_dataset, batch_size=batch_size, shuffle=False)\n"
   ]
  },
  {
   "cell_type": "markdown",
   "metadata": {},
   "source": [
    "A model. Start simple with FC layers."
   ]
  },
  {
   "cell_type": "code",
   "execution_count": 11,
   "metadata": {},
   "outputs": [],
   "source": [
    "class FCNN_model(nn.Module):\n",
    "    def __init__(self, systreat_dim,species_dim, conditions_dim, hidden_dim, output_dim):\n",
    "        super(FCNN_model, self).__init__()\n",
    "        self.rel = nn.ReLU()\n",
    "        self.embedding_systreat = nn.Embedding(num_embeddings=systreat_dim,embedding_dim=hidden_dim) \n",
    "        self.embedding_specie = nn.Embedding(num_embeddings=species_dim,embedding_dim=hidden_dim) \n",
    "        self.conditions_fc = nn.Linear(conditions_dim,hidden_dim)\n",
    "        self.fc1 = nn.Linear(hidden_dim*3,hidden_dim) \n",
    "        self.fc2 = nn.Linear(hidden_dim,int(hidden_dim/2))\n",
    "        self.fc_reg = nn.Linear(int(hidden_dim/2),output_dim) \n",
    "        \n",
    "        \n",
    "    def forward(self, onehot_specie,onehot_systreat, condits):\n",
    "        emb = self.embedding_systreat(onehot_systreat)\n",
    "        emb1 = self.embedding_specie(onehot_specie)\n",
    "        data_enc = self.conditions_fc(condits)\n",
    "        data_enc = self.rel(data_enc)\n",
    "\n",
    "        out = torch.cat((emb,emb1,data_enc),dim=-1)\n",
    "        out = self.rel(out)\n",
    "        out = self.fc1(out)\n",
    "        out = self.rel(out)\n",
    "        out = self.fc2(out)\n",
    "        out = self.rel(out)\n",
    "        out = self.fc_reg(out)\n",
    "        out = self.rel(out)\n",
    "\n",
    "        return out"
   ]
  },
  {
   "cell_type": "code",
   "execution_count": 12,
   "metadata": {},
   "outputs": [],
   "source": [
    "model = FCNN_model(systreat_dim = len(dataset.combinations),\n",
    "                    species_dim= len(dataset.species_vocab),\n",
    "                    conditions_dim = len(columns),\n",
    "                     hidden_dim=520, \n",
    "                     output_dim = 1)"
   ]
  },
  {
   "cell_type": "code",
   "execution_count": 13,
   "metadata": {},
   "outputs": [],
   "source": [
    "device = torch.device(\"mps\")"
   ]
  },
  {
   "cell_type": "code",
   "execution_count": 14,
   "metadata": {},
   "outputs": [],
   "source": [
    "model = model.to(device)"
   ]
  },
  {
   "cell_type": "code",
   "execution_count": 15,
   "metadata": {},
   "outputs": [
    {
     "data": {
      "text/plain": [
       "'FC_architecture.png'"
      ]
     },
     "execution_count": 15,
     "metadata": {},
     "output_type": "execute_result"
    }
   ],
   "source": [
    "from torchviz import make_dot\n",
    "specie_onehot , systreat_onehot, data, y = dataset.__getitem__(6)\n",
    "\n",
    "specie_onehot = specie_onehot.to(device)\n",
    "systreat_onehot = systreat_onehot.to(device)\n",
    "data = data.to(device)\n",
    "\n",
    "# Perform a forward pass\n",
    "output = model(specie_onehot, systreat_onehot, data)\n",
    "\n",
    "# Create a visualization of the model's architecture\n",
    "dot = make_dot(output, params=dict(model.named_parameters()))\n",
    "dot.render(\"FC_architecture\", format=\"png\")  # Save the visualization as a PNG file"
   ]
  },
  {
   "cell_type": "code",
   "execution_count": 16,
   "metadata": {},
   "outputs": [
    {
     "name": "stdout",
     "output_type": "stream",
     "text": [
      "\u001b[34m\u001b[1mwandb\u001b[0m: Currently logged in as: \u001b[33mharadai\u001b[0m. Use \u001b[1m`wandb login --relogin`\u001b[0m to force relogin\n"
     ]
    }
   ],
   "source": [
    "import wandb\n",
    "!wandb login"
   ]
  },
  {
   "cell_type": "code",
   "execution_count": 17,
   "metadata": {},
   "outputs": [],
   "source": [
    "#wandb.init(project='uib_datathon')"
   ]
  },
  {
   "cell_type": "code",
   "execution_count": 18,
   "metadata": {},
   "outputs": [],
   "source": [
    "train_losses = []\n",
    "test_losses = []\n",
    "batch_losses = []"
   ]
  },
  {
   "cell_type": "code",
   "execution_count": 19,
   "metadata": {},
   "outputs": [],
   "source": [
    "import matplotlib.pyplot as plt\n",
    "import IPython"
   ]
  },
  {
   "cell_type": "code",
   "execution_count": 20,
   "metadata": {},
   "outputs": [],
   "source": [
    "max_grad_norm = 2"
   ]
  },
  {
   "cell_type": "code",
   "execution_count": 21,
   "metadata": {},
   "outputs": [],
   "source": [
    "lr = 0.01"
   ]
  },
  {
   "cell_type": "code",
   "execution_count": 22,
   "metadata": {},
   "outputs": [],
   "source": [
    "def train(dataloader,test_dataloader, model, batch_size, num_epochs):\n",
    "    model.train()\n",
    "\n",
    "    criterion =  nn.MSELoss()\n",
    "    optimizer = optim.Adam(model.parameters(), lr=lr)\n",
    "\n",
    "    \n",
    "    for epoch in range(num_epochs):\n",
    "        losses = []\n",
    "        for batch, (specie_onehot , systreat_onehot,condits, y) in enumerate(dataloader):\n",
    "            \n",
    "            specie_onehot = specie_onehot.to(device)\n",
    "            systreat_onehot = systreat_onehot.to(device)\n",
    "            condits = condits.to(device)\n",
    "            y = y.to(device)\n",
    "            #x = x.to(device)\n",
    "            #y = y.to(device)\n",
    "            optimizer.zero_grad()\n",
    "            \n",
    "            y_pred = model(specie_onehot,systreat_onehot,condits)\n",
    "            loss = criterion(y_pred.squeeze(dim=1),y)  #cross entropy loss needs (N,C,seq_lenght)\n",
    "\n",
    "            loss.backward()\n",
    "            \n",
    "            # Clip gradients to prevent exploding gradients\n",
    "            torch.nn.utils.clip_grad_norm_(model.parameters(), max_grad_norm)\n",
    "            \n",
    "            optimizer.step()\n",
    "\n",
    "            if batch%30 == 0:\n",
    "                print({ 'epoch': epoch, 'batch': batch, 'loss': loss.item() })\n",
    "                IPython.display.clear_output(wait=True)  # Clear cell outputç\n",
    "                plt.plot(batch_losses,label = \"train_batch\")\n",
    "                plt.show()\n",
    "            losses.append(loss.item())\n",
    "            batch_losses.append(loss.item())\n",
    "            \n",
    "            #wandb.log({'train_loss': loss.item()})\n",
    "        \n",
    "            #wandb.log({'epoch_train_loss': np.mean(losses)})\n",
    "        train_losses.append(np.mean(losses))\n",
    "\n",
    "\n",
    "        #test \n",
    "        model.eval()  \n",
    "        with torch.no_grad(): \n",
    "            losses = []\n",
    "            for batch, (specie_onehot , systreat_onehot,condits, y) in enumerate(test_dataloader):\n",
    "                specie_onehot = specie_onehot.to(device)\n",
    "                systreat_onehot = systreat_onehot.to(device)\n",
    "                condits = condits.to(device)\n",
    "                y = y.to(device)\n",
    "                y_pred = model(specie_onehot,systreat_onehot,condits)\n",
    "                loss = criterion(y_pred.squeeze(dim=1),y)\n",
    "                if batch%30 == 0:\n",
    "                    print({ 'TEST!': epoch, 'batch': batch, 'loss': loss.item() })\n",
    "                losses.append(loss.item())\n",
    "            #wandb.log({'epoch_test_loss': np.mean(test_losses)})\n",
    "            test_losses.append(np.mean(losses))\n",
    "    return losses"
   ]
  },
  {
   "cell_type": "code",
   "execution_count": 41,
   "metadata": {},
   "outputs": [
    {
     "data": {
      "image/png": "[encoded data removed]",
      "text/plain": [
       "<Figure size 640x480 with 1 Axes>"
      ]
     },
     "metadata": {},
     "output_type": "display_data"
    },
    {
     "name": "stdout",
     "output_type": "stream",
     "text": [
      "{'TEST!': 1, 'batch': 0, 'loss': 0.004639075603336096}\n"
     ]
    },
    {
     "ename": "KeyboardInterrupt",
     "evalue": "",
     "output_type": "error",
     "traceback": [
      "\u001b[0;31m---------------------------------------------------------------------------\u001b[0m",
      "\u001b[0;31mKeyboardInterrupt\u001b[0m                         Traceback (most recent call last)",
      "Cell \u001b[0;32mIn[41], line 1\u001b[0m\n\u001b[0;32m----> 1\u001b[0m \u001b[43mtrain\u001b[49m\u001b[43m(\u001b[49m\u001b[43mtrain_loader\u001b[49m\u001b[43m,\u001b[49m\u001b[43mtest_loader\u001b[49m\u001b[43m,\u001b[49m\u001b[43mmodel\u001b[49m\u001b[43m,\u001b[49m\u001b[43mbatch_size\u001b[49m\u001b[38;5;241;43m=\u001b[39;49m\u001b[43mbatch_size\u001b[49m\u001b[43m,\u001b[49m\u001b[43mnum_epochs\u001b[49m\u001b[38;5;241;43m=\u001b[39;49m\u001b[38;5;241;43m20\u001b[39;49m\u001b[43m)\u001b[49m\n",
      "Cell \u001b[0;32mIn[40], line 48\u001b[0m, in \u001b[0;36mtrain\u001b[0;34m(dataloader, test_dataloader, model, batch_size, num_epochs)\u001b[0m\n\u001b[1;32m     46\u001b[0m \u001b[38;5;28;01mwith\u001b[39;00m torch\u001b[38;5;241m.\u001b[39mno_grad(): \n\u001b[1;32m     47\u001b[0m     losses \u001b[38;5;241m=\u001b[39m []\n\u001b[0;32m---> 48\u001b[0m     \u001b[38;5;28;01mfor\u001b[39;00m batch, (specie_onehot , systreat_onehot,condits, y) \u001b[38;5;129;01min\u001b[39;00m \u001b[38;5;28menumerate\u001b[39m(test_dataloader):\n\u001b[1;32m     49\u001b[0m         specie_onehot \u001b[38;5;241m=\u001b[39m specie_onehot\u001b[38;5;241m.\u001b[39mto(device)\n\u001b[1;32m     50\u001b[0m         systreat_onehot \u001b[38;5;241m=\u001b[39m systreat_onehot\u001b[38;5;241m.\u001b[39mto(device)\n",
      "File \u001b[0;32m~/miniforge3/envs/ML/lib/python3.10/site-packages/torch/utils/data/dataloader.py:634\u001b[0m, in \u001b[0;36m_BaseDataLoaderIter.__next__\u001b[0;34m(self)\u001b[0m\n\u001b[1;32m    631\u001b[0m \u001b[39mif\u001b[39;00m \u001b[39mself\u001b[39m\u001b[39m.\u001b[39m_sampler_iter \u001b[39mis\u001b[39;00m \u001b[39mNone\u001b[39;00m:\n\u001b[1;32m    632\u001b[0m     \u001b[39m# TODO(https://github.com/pytorch/pytorch/issues/76750)\u001b[39;00m\n\u001b[1;32m    633\u001b[0m     \u001b[39mself\u001b[39m\u001b[39m.\u001b[39m_reset()  \u001b[39m# type: ignore[call-arg]\u001b[39;00m\n\u001b[0;32m--> 634\u001b[0m data \u001b[39m=\u001b[39m \u001b[39mself\u001b[39;49m\u001b[39m.\u001b[39;49m_next_data()\n\u001b[1;32m    635\u001b[0m \u001b[39mself\u001b[39m\u001b[39m.\u001b[39m_num_yielded \u001b[39m+\u001b[39m\u001b[39m=\u001b[39m \u001b[39m1\u001b[39m\n\u001b[1;32m    636\u001b[0m \u001b[39mif\u001b[39;00m \u001b[39mself\u001b[39m\u001b[39m.\u001b[39m_dataset_kind \u001b[39m==\u001b[39m _DatasetKind\u001b[39m.\u001b[39mIterable \u001b[39mand\u001b[39;00m \\\n\u001b[1;32m    637\u001b[0m         \u001b[39mself\u001b[39m\u001b[39m.\u001b[39m_IterableDataset_len_called \u001b[39mis\u001b[39;00m \u001b[39mnot\u001b[39;00m \u001b[39mNone\u001b[39;00m \u001b[39mand\u001b[39;00m \\\n\u001b[1;32m    638\u001b[0m         \u001b[39mself\u001b[39m\u001b[39m.\u001b[39m_num_yielded \u001b[39m>\u001b[39m \u001b[39mself\u001b[39m\u001b[39m.\u001b[39m_IterableDataset_len_called:\n",
      "File \u001b[0;32m~/miniforge3/envs/ML/lib/python3.10/site-packages/torch/utils/data/dataloader.py:678\u001b[0m, in \u001b[0;36m_SingleProcessDataLoaderIter._next_data\u001b[0;34m(self)\u001b[0m\n\u001b[1;32m    676\u001b[0m \u001b[39mdef\u001b[39;00m \u001b[39m_next_data\u001b[39m(\u001b[39mself\u001b[39m):\n\u001b[1;32m    677\u001b[0m     index \u001b[39m=\u001b[39m \u001b[39mself\u001b[39m\u001b[39m.\u001b[39m_next_index()  \u001b[39m# may raise StopIteration\u001b[39;00m\n\u001b[0;32m--> 678\u001b[0m     data \u001b[39m=\u001b[39m \u001b[39mself\u001b[39;49m\u001b[39m.\u001b[39;49m_dataset_fetcher\u001b[39m.\u001b[39;49mfetch(index)  \u001b[39m# may raise StopIteration\u001b[39;00m\n\u001b[1;32m    679\u001b[0m     \u001b[39mif\u001b[39;00m \u001b[39mself\u001b[39m\u001b[39m.\u001b[39m_pin_memory:\n\u001b[1;32m    680\u001b[0m         data \u001b[39m=\u001b[39m _utils\u001b[39m.\u001b[39mpin_memory\u001b[39m.\u001b[39mpin_memory(data, \u001b[39mself\u001b[39m\u001b[39m.\u001b[39m_pin_memory_device)\n",
      "File \u001b[0;32m~/miniforge3/envs/ML/lib/python3.10/site-packages/torch/utils/data/_utils/fetch.py:51\u001b[0m, in \u001b[0;36m_MapDatasetFetcher.fetch\u001b[0;34m(self, possibly_batched_index)\u001b[0m\n\u001b[1;32m     49\u001b[0m         data \u001b[39m=\u001b[39m \u001b[39mself\u001b[39m\u001b[39m.\u001b[39mdataset\u001b[39m.\u001b[39m__getitems__(possibly_batched_index)\n\u001b[1;32m     50\u001b[0m     \u001b[39melse\u001b[39;00m:\n\u001b[0;32m---> 51\u001b[0m         data \u001b[39m=\u001b[39m [\u001b[39mself\u001b[39m\u001b[39m.\u001b[39mdataset[idx] \u001b[39mfor\u001b[39;00m idx \u001b[39min\u001b[39;00m possibly_batched_index]\n\u001b[1;32m     52\u001b[0m \u001b[39melse\u001b[39;00m:\n\u001b[1;32m     53\u001b[0m     data \u001b[39m=\u001b[39m \u001b[39mself\u001b[39m\u001b[39m.\u001b[39mdataset[possibly_batched_index]\n",
      "File \u001b[0;32m~/miniforge3/envs/ML/lib/python3.10/site-packages/torch/utils/data/_utils/fetch.py:51\u001b[0m, in \u001b[0;36m<listcomp>\u001b[0;34m(.0)\u001b[0m\n\u001b[1;32m     49\u001b[0m         data \u001b[39m=\u001b[39m \u001b[39mself\u001b[39m\u001b[39m.\u001b[39mdataset\u001b[39m.\u001b[39m__getitems__(possibly_batched_index)\n\u001b[1;32m     50\u001b[0m     \u001b[39melse\u001b[39;00m:\n\u001b[0;32m---> 51\u001b[0m         data \u001b[39m=\u001b[39m [\u001b[39mself\u001b[39;49m\u001b[39m.\u001b[39;49mdataset[idx] \u001b[39mfor\u001b[39;00m idx \u001b[39min\u001b[39;00m possibly_batched_index]\n\u001b[1;32m     52\u001b[0m \u001b[39melse\u001b[39;00m:\n\u001b[1;32m     53\u001b[0m     data \u001b[39m=\u001b[39m \u001b[39mself\u001b[39m\u001b[39m.\u001b[39mdataset[possibly_batched_index]\n",
      "File \u001b[0;32m~/miniforge3/envs/ML/lib/python3.10/site-packages/torch/utils/data/dataset.py:298\u001b[0m, in \u001b[0;36mSubset.__getitem__\u001b[0;34m(self, idx)\u001b[0m\n\u001b[1;32m    296\u001b[0m \u001b[39mif\u001b[39;00m \u001b[39misinstance\u001b[39m(idx, \u001b[39mlist\u001b[39m):\n\u001b[1;32m    297\u001b[0m     \u001b[39mreturn\u001b[39;00m \u001b[39mself\u001b[39m\u001b[39m.\u001b[39mdataset[[\u001b[39mself\u001b[39m\u001b[39m.\u001b[39mindices[i] \u001b[39mfor\u001b[39;00m i \u001b[39min\u001b[39;00m idx]]\n\u001b[0;32m--> 298\u001b[0m \u001b[39mreturn\u001b[39;00m \u001b[39mself\u001b[39;49m\u001b[39m.\u001b[39;49mdataset[\u001b[39mself\u001b[39;49m\u001b[39m.\u001b[39;49mindices[idx]]\n",
      "Cell \u001b[0;32mIn[8], line 24\u001b[0m, in \u001b[0;36mDataset.__getitem__\u001b[0;34m(self, idx)\u001b[0m\n\u001b[1;32m     22\u001b[0m cond_by_t \u001b[38;5;241m=\u001b[39m []\n\u001b[1;32m     23\u001b[0m \u001b[38;5;28;01mfor\u001b[39;00m t \u001b[38;5;129;01min\u001b[39;00m \u001b[38;5;28mrange\u001b[39m(\u001b[38;5;241m1\u001b[39m,\u001b[38;5;241m4\u001b[39m):\n\u001b[0;32m---> 24\u001b[0m     conditions \u001b[38;5;241m=\u001b[39m \u001b[38;5;28mself\u001b[39m\u001b[38;5;241m.\u001b[39mconditions[\u001b[43m(\u001b[49m\u001b[38;5;28;43mself\u001b[39;49m\u001b[38;5;241;43m.\u001b[39;49m\u001b[43mconditions\u001b[49m\u001b[43m[\u001b[49m\u001b[38;5;124;43m\"\u001b[39;49m\u001b[38;5;124;43mSystem\u001b[39;49m\u001b[38;5;124;43m\"\u001b[39;49m\u001b[43m]\u001b[49m\u001b[43m \u001b[49m\u001b[38;5;241;43m==\u001b[39;49m\u001b[43m \u001b[49m\u001b[43mrow\u001b[49m\u001b[43m[\u001b[49m\u001b[38;5;124;43m\"\u001b[39;49m\u001b[38;5;124;43mSystem\u001b[39;49m\u001b[38;5;124;43m\"\u001b[39;49m\u001b[43m]\u001b[49m\u001b[43m)\u001b[49m\u001b[43m \u001b[49m\u001b[38;5;241;43m&\u001b[39;49m\u001b[43m \u001b[49m\u001b[43m(\u001b[49m\u001b[38;5;28;43mself\u001b[39;49m\u001b[38;5;241;43m.\u001b[39;49m\u001b[43mconditions\u001b[49m\u001b[43m[\u001b[49m\u001b[38;5;124;43m\"\u001b[39;49m\u001b[38;5;124;43mTreatment\u001b[39;49m\u001b[38;5;124;43m\"\u001b[39;49m\u001b[43m]\u001b[49m\u001b[43m \u001b[49m\u001b[38;5;241;43m==\u001b[39;49m\u001b[43m \u001b[49m\u001b[43mrow\u001b[49m\u001b[43m[\u001b[49m\u001b[38;5;124;43m\"\u001b[39;49m\u001b[38;5;124;43mTreatment\u001b[39;49m\u001b[38;5;124;43m\"\u001b[39;49m\u001b[43m]\u001b[49m\u001b[43m)\u001b[49m\u001b[43m \u001b[49m\u001b[38;5;241;43m&\u001b[39;49m\u001b[43m \u001b[49m\u001b[43m(\u001b[49m\u001b[38;5;28;43mself\u001b[39;49m\u001b[38;5;241;43m.\u001b[39;49m\u001b[43mconditions\u001b[49m\u001b[43m[\u001b[49m\u001b[38;5;124;43m\"\u001b[39;49m\u001b[38;5;124;43mTimeStamp\u001b[39;49m\u001b[38;5;124;43m\"\u001b[39;49m\u001b[43m]\u001b[49m\u001b[43m \u001b[49m\u001b[38;5;241;43m==\u001b[39;49m\u001b[43m \u001b[49m\u001b[43mt\u001b[49m\u001b[43m)\u001b[49m][columns]\n\u001b[1;32m     25\u001b[0m     \u001b[38;5;28;01mif\u001b[39;00m \u001b[38;5;28mlen\u001b[39m(conditions) \u001b[38;5;241m==\u001b[39m \u001b[38;5;241m0\u001b[39m:\n\u001b[1;32m     26\u001b[0m         cond_by_t\u001b[38;5;241m.\u001b[39mappend([\u001b[38;5;241m0\u001b[39m]\u001b[38;5;241m*\u001b[39m\u001b[38;5;28mlen\u001b[39m(columns))\n",
      "File \u001b[0;32m~/miniforge3/envs/ML/lib/python3.10/site-packages/pandas/core/ops/common.py:72\u001b[0m, in \u001b[0;36m_unpack_zerodim_and_defer.<locals>.new_method\u001b[0;34m(self, other)\u001b[0m\n\u001b[1;32m     68\u001b[0m             \u001b[39mreturn\u001b[39;00m \u001b[39mNotImplemented\u001b[39m\n\u001b[1;32m     70\u001b[0m other \u001b[39m=\u001b[39m item_from_zerodim(other)\n\u001b[0;32m---> 72\u001b[0m \u001b[39mreturn\u001b[39;00m method(\u001b[39mself\u001b[39;49m, other)\n",
      "File \u001b[0;32m~/miniforge3/envs/ML/lib/python3.10/site-packages/pandas/core/arraylike.py:72\u001b[0m, in \u001b[0;36mOpsMixin.__and__\u001b[0;34m(self, other)\u001b[0m\n\u001b[1;32m     70\u001b[0m \u001b[39m@unpack_zerodim_and_defer\u001b[39m(\u001b[39m\"\u001b[39m\u001b[39m__and__\u001b[39m\u001b[39m\"\u001b[39m)\n\u001b[1;32m     71\u001b[0m \u001b[39mdef\u001b[39;00m \u001b[39m__and__\u001b[39m(\u001b[39mself\u001b[39m, other):\n\u001b[0;32m---> 72\u001b[0m     \u001b[39mreturn\u001b[39;00m \u001b[39mself\u001b[39;49m\u001b[39m.\u001b[39;49m_logical_method(other, operator\u001b[39m.\u001b[39;49mand_)\n",
      "File \u001b[0;32m~/miniforge3/envs/ML/lib/python3.10/site-packages/pandas/core/series.py:6255\u001b[0m, in \u001b[0;36mSeries._logical_method\u001b[0;34m(self, other, op)\u001b[0m\n\u001b[1;32m   6252\u001b[0m rvalues \u001b[39m=\u001b[39m extract_array(other, extract_numpy\u001b[39m=\u001b[39m\u001b[39mTrue\u001b[39;00m, extract_range\u001b[39m=\u001b[39m\u001b[39mTrue\u001b[39;00m)\n\u001b[1;32m   6254\u001b[0m res_values \u001b[39m=\u001b[39m ops\u001b[39m.\u001b[39mlogical_op(lvalues, rvalues, op)\n\u001b[0;32m-> 6255\u001b[0m \u001b[39mreturn\u001b[39;00m \u001b[39mself\u001b[39;49m\u001b[39m.\u001b[39;49m_construct_result(res_values, name\u001b[39m=\u001b[39;49mres_name)\n",
      "File \u001b[0;32m~/miniforge3/envs/ML/lib/python3.10/site-packages/pandas/core/series.py:3223\u001b[0m, in \u001b[0;36mSeries._construct_result\u001b[0;34m(self, result, name)\u001b[0m\n\u001b[1;32m   3219\u001b[0m     \u001b[39mreturn\u001b[39;00m (res1, res2)\n\u001b[1;32m   3221\u001b[0m \u001b[39m# We do not pass dtype to ensure that the Series constructor\u001b[39;00m\n\u001b[1;32m   3222\u001b[0m \u001b[39m#  does inference in the case where `result` has object-dtype.\u001b[39;00m\n\u001b[0;32m-> 3223\u001b[0m out \u001b[39m=\u001b[39m \u001b[39mself\u001b[39;49m\u001b[39m.\u001b[39;49m_constructor(result, index\u001b[39m=\u001b[39;49m\u001b[39mself\u001b[39;49m\u001b[39m.\u001b[39;49mindex)\n\u001b[1;32m   3224\u001b[0m out \u001b[39m=\u001b[39m out\u001b[39m.\u001b[39m__finalize__(\u001b[39mself\u001b[39m)\n\u001b[1;32m   3226\u001b[0m \u001b[39m# Set the result's name after __finalize__ is called because __finalize__\u001b[39;00m\n\u001b[1;32m   3227\u001b[0m \u001b[39m#  would set it back to self.name\u001b[39;00m\n",
      "File \u001b[0;32m~/miniforge3/envs/ML/lib/python3.10/site-packages/pandas/core/series.py:470\u001b[0m, in \u001b[0;36mSeries.__init__\u001b[0;34m(self, data, index, dtype, name, copy, fastpath)\u001b[0m\n\u001b[1;32m    468\u001b[0m         data \u001b[39m=\u001b[39m data\u001b[39m.\u001b[39mcopy()\n\u001b[1;32m    469\u001b[0m \u001b[39melse\u001b[39;00m:\n\u001b[0;32m--> 470\u001b[0m     data \u001b[39m=\u001b[39m sanitize_array(data, index, dtype, copy)\n\u001b[1;32m    472\u001b[0m     manager \u001b[39m=\u001b[39m get_option(\u001b[39m\"\u001b[39m\u001b[39mmode.data_manager\u001b[39m\u001b[39m\"\u001b[39m)\n\u001b[1;32m    473\u001b[0m     \u001b[39mif\u001b[39;00m manager \u001b[39m==\u001b[39m \u001b[39m\"\u001b[39m\u001b[39mblock\u001b[39m\u001b[39m\"\u001b[39m:\n",
      "File \u001b[0;32m~/miniforge3/envs/ML/lib/python3.10/site-packages/pandas/core/construction.py:652\u001b[0m, in \u001b[0;36msanitize_array\u001b[0;34m(data, index, dtype, copy, raise_cast_failure, allow_2d)\u001b[0m\n\u001b[1;32m    649\u001b[0m \u001b[39mif\u001b[39;00m \u001b[39misinstance\u001b[39m(subarr, np\u001b[39m.\u001b[39mndarray):\n\u001b[1;32m    650\u001b[0m     \u001b[39m# at this point we should have dtype be None or subarr.dtype == dtype\u001b[39;00m\n\u001b[1;32m    651\u001b[0m     dtype \u001b[39m=\u001b[39m cast(np\u001b[39m.\u001b[39mdtype, dtype)\n\u001b[0;32m--> 652\u001b[0m     subarr \u001b[39m=\u001b[39m _sanitize_str_dtypes(subarr, data, dtype, copy)\n\u001b[1;32m    654\u001b[0m \u001b[39mreturn\u001b[39;00m subarr\n",
      "File \u001b[0;32m~/miniforge3/envs/ML/lib/python3.10/site-packages/pandas/core/construction.py:713\u001b[0m, in \u001b[0;36m_sanitize_str_dtypes\u001b[0;34m(result, data, dtype, copy)\u001b[0m\n\u001b[1;32m    709\u001b[0m             result \u001b[39m=\u001b[39m com\u001b[39m.\u001b[39masarray_tuplesafe(data, dtype\u001b[39m=\u001b[39mdtype)  \u001b[39m# type: ignore[arg-type]\u001b[39;00m\n\u001b[1;32m    710\u001b[0m     \u001b[39mreturn\u001b[39;00m result\n\u001b[0;32m--> 713\u001b[0m \u001b[39mdef\u001b[39;00m \u001b[39m_sanitize_str_dtypes\u001b[39m(\n\u001b[1;32m    714\u001b[0m     result: np\u001b[39m.\u001b[39mndarray, data, dtype: np\u001b[39m.\u001b[39mdtype \u001b[39m|\u001b[39m \u001b[39mNone\u001b[39;00m, copy: \u001b[39mbool\u001b[39m\n\u001b[1;32m    715\u001b[0m ) \u001b[39m-\u001b[39m\u001b[39m>\u001b[39m np\u001b[39m.\u001b[39mndarray:\n\u001b[1;32m    716\u001b[0m \u001b[39m    \u001b[39m\u001b[39m\"\"\"\u001b[39;00m\n\u001b[1;32m    717\u001b[0m \u001b[39m    Ensure we have a dtype that is supported by pandas.\u001b[39;00m\n\u001b[1;32m    718\u001b[0m \u001b[39m    \"\"\"\u001b[39;00m\n\u001b[1;32m    720\u001b[0m     \u001b[39m# This is to prevent mixed-type Series getting all casted to\u001b[39;00m\n\u001b[1;32m    721\u001b[0m     \u001b[39m# NumPy string type, e.g. NaN --> '-1#IND'.\u001b[39;00m\n",
      "\u001b[0;31mKeyboardInterrupt\u001b[0m: "
     ]
    }
   ],
   "source": [
    "train(train_loader,test_loader,model,batch_size=batch_size,num_epochs=20)"
   ]
  },
  {
   "cell_type": "code",
   "execution_count": 27,
   "metadata": {},
   "outputs": [
    {
     "data": {
      "image/png": "[encoded data removed]",
      "text/plain": [
       "<Figure size 640x480 with 1 Axes>"
      ]
     },
     "metadata": {},
     "output_type": "display_data"
    }
   ],
   "source": [
    "import matplotlib.pyplot as plt\n",
    "plt.plot(batch_losses,label = \"train_batch\")\n",
    "plt.legend()\n",
    "plt.show()"
   ]
  },
  {
   "cell_type": "code",
   "execution_count": 28,
   "metadata": {},
   "outputs": [
    {
     "data": {
      "image/png": "[encoded data removed]",
      "text/plain": [
       "<Figure size 640x480 with 1 Axes>"
      ]
     },
     "metadata": {},
     "output_type": "display_data"
    }
   ],
   "source": [
    "import matplotlib.pyplot as plt\n",
    "plt.plot(train_losses,label = \"train\")\n",
    "plt.plot(test_losses, label = \"test\")\n",
    "plt.legend()\n",
    "plt.show()"
   ]
  },
  {
   "cell_type": "markdown",
   "metadata": {},
   "source": [
    "Making the model more complex with a selfattention block."
   ]
  },
  {
   "cell_type": "code",
   "execution_count": 23,
   "metadata": {},
   "outputs": [],
   "source": [
    "class AttentionBlock(nn.Module):\n",
    "    def __init__(self, key_dim, val_dim, query_dim, hidden_dim, num_heads,FC_hidden=500):\n",
    "        super(AttentionBlock, self).__init__()\n",
    "        self.key_gen = nn.Sequential(\n",
    "            nn.Linear(key_dim,FC_hidden),\n",
    "            nn.ReLU(),\n",
    "            nn.Linear(FC_hidden,FC_hidden),\n",
    "            nn.ReLU(),\n",
    "            nn.Linear(FC_hidden, hidden_dim),\n",
    "            nn.ReLU(),\n",
    "        )\n",
    "\n",
    "        self.val_gen = nn.Sequential(\n",
    "            nn.Linear(val_dim, FC_hidden),\n",
    "            nn.ReLU(),\n",
    "            nn.Linear(FC_hidden, FC_hidden),\n",
    "            nn.ReLU(),\n",
    "            nn.Linear(FC_hidden, hidden_dim),\n",
    "            nn.ReLU(),\n",
    "        )\n",
    "        \n",
    "        self.query_gen = nn.Sequential(\n",
    "            nn.Linear(query_dim, FC_hidden),\n",
    "            nn.ReLU(),\n",
    "            nn.Linear(FC_hidden, FC_hidden),\n",
    "            nn.ReLU(),\n",
    "            nn.Linear(FC_hidden, hidden_dim),\n",
    "            nn.ReLU(),\n",
    "        )\n",
    "        self.multihead_attn = nn.MultiheadAttention(hidden_dim, num_heads, batch_first=True)\n",
    "    \n",
    "    def forward(self,keys,values,queries):\n",
    "        key = self.key_gen(keys) #generate key with FC key is directly the embedding\n",
    "        value = self.val_gen(values) #generate value with FC\n",
    "        query = self.query_gen(queries) #generate query with FC\n",
    "        output, _ =  self.multihead_attn(key=key, value=value, query=query)\n",
    "        return output"
   ]
  },
  {
   "cell_type": "code",
   "execution_count": 24,
   "metadata": {},
   "outputs": [],
   "source": [
    "class SelfAtt_model(nn.Module):\n",
    "    def __init__(self, systreat_dim,species_dim, conditions_dim, hidden_dim, output_dim):\n",
    "        super(SelfAtt_model, self).__init__()\n",
    "        self.rel = nn.ReLU()\n",
    "        self.embedding_systreat = nn.Embedding(num_embeddings=systreat_dim,embedding_dim=hidden_dim) \n",
    "        self.embedding_specie = nn.Embedding(num_embeddings=species_dim,embedding_dim=hidden_dim) \n",
    "        self.conditions_fc = nn.Linear(conditions_dim,hidden_dim)\n",
    "        self.selfatt = AttentionBlock(hidden_dim*3,hidden_dim*3,hidden_dim*3,hidden_dim,num_heads=1)\n",
    "        self.fc_reg = nn.Linear(hidden_dim,output_dim) \n",
    "        \n",
    "        \n",
    "    def forward(self, onehot_specie,onehot_systreat, condits):\n",
    "        emb = self.embedding_systreat(onehot_systreat)\n",
    "        emb1 = self.embedding_specie(onehot_specie)\n",
    "        data_enc = self.conditions_fc(condits)\n",
    "        data_enc = self.rel(data_enc)\n",
    "        \n",
    "        out = torch.cat((emb,emb1,data_enc),dim=-1)\n",
    "        out = self.selfatt(out,out,out)\n",
    "        out = self.fc_reg(out)\n",
    "        out = self.rel(out)\n",
    "\n",
    "        return out"
   ]
  },
  {
   "cell_type": "code",
   "execution_count": 25,
   "metadata": {},
   "outputs": [],
   "source": [
    "model = SelfAtt_model(systreat_dim = len(dataset.combinations),\n",
    "                    species_dim= len(dataset.species_vocab),\n",
    "                    conditions_dim = len(columns),\n",
    "                     hidden_dim=512, \n",
    "                     output_dim = 1)"
   ]
  },
  {
   "cell_type": "code",
   "execution_count": 26,
   "metadata": {},
   "outputs": [],
   "source": [
    "model = model.to(device)"
   ]
  },
  {
   "cell_type": "code",
   "execution_count": 46,
   "metadata": {},
   "outputs": [
    {
     "ename": "TypeError",
     "evalue": "SelfAtt_model.forward() missing 2 required positional arguments: 'onehot_systreat' and 'condits'",
     "output_type": "error",
     "traceback": [
      "\u001b[0;31m---------------------------------------------------------------------------\u001b[0m",
      "\u001b[0;31mTypeError\u001b[0m                                 Traceback (most recent call last)",
      "Cell \u001b[0;32mIn[46], line 14\u001b[0m\n\u001b[1;32m      9\u001b[0m data \u001b[38;5;241m=\u001b[39m data\u001b[38;5;241m.\u001b[39mto(device)\u001b[38;5;241m.\u001b[39munsqueeze(\u001b[38;5;241m0\u001b[39m)\n\u001b[1;32m     11\u001b[0m input_sizes \u001b[38;5;241m=\u001b[39m [\n\u001b[1;32m     12\u001b[0m     (specie_onehot\u001b[38;5;241m.\u001b[39msize(\u001b[38;5;241m0\u001b[39m), systreat_onehot\u001b[38;5;241m.\u001b[39msize(\u001b[38;5;241m0\u001b[39m), data\u001b[38;5;241m.\u001b[39msize(\u001b[38;5;241m0\u001b[39m))\n\u001b[1;32m     13\u001b[0m ]\n\u001b[0;32m---> 14\u001b[0m \u001b[43msummary\u001b[49m\u001b[43m(\u001b[49m\u001b[43mmodel\u001b[49m\u001b[43m,\u001b[49m\u001b[43m \u001b[49m\u001b[43minput_size\u001b[49m\u001b[38;5;241;43m=\u001b[39;49m\u001b[43minput_sizes\u001b[49m\u001b[43m)\u001b[49m\n",
      "File \u001b[0;32m~/miniforge3/envs/ML/lib/python3.10/site-packages/torchsummary/torchsummary.py:72\u001b[0m, in \u001b[0;36msummary\u001b[0;34m(model, input_size, batch_size, device)\u001b[0m\n\u001b[1;32m     68\u001b[0m model\u001b[39m.\u001b[39mapply(register_hook)\n\u001b[1;32m     70\u001b[0m \u001b[39m# make a forward pass\u001b[39;00m\n\u001b[1;32m     71\u001b[0m \u001b[39m# print(x.shape)\u001b[39;00m\n\u001b[0;32m---> 72\u001b[0m model(\u001b[39m*\u001b[39;49mx)\n\u001b[1;32m     74\u001b[0m \u001b[39m# remove these hooks\u001b[39;00m\n\u001b[1;32m     75\u001b[0m \u001b[39mfor\u001b[39;00m h \u001b[39min\u001b[39;00m hooks:\n",
      "File \u001b[0;32m~/miniforge3/envs/ML/lib/python3.10/site-packages/torch/nn/modules/module.py:1501\u001b[0m, in \u001b[0;36mModule._call_impl\u001b[0;34m(self, *args, **kwargs)\u001b[0m\n\u001b[1;32m   1496\u001b[0m \u001b[39m# If we don't have any hooks, we want to skip the rest of the logic in\u001b[39;00m\n\u001b[1;32m   1497\u001b[0m \u001b[39m# this function, and just call forward.\u001b[39;00m\n\u001b[1;32m   1498\u001b[0m \u001b[39mif\u001b[39;00m \u001b[39mnot\u001b[39;00m (\u001b[39mself\u001b[39m\u001b[39m.\u001b[39m_backward_hooks \u001b[39mor\u001b[39;00m \u001b[39mself\u001b[39m\u001b[39m.\u001b[39m_backward_pre_hooks \u001b[39mor\u001b[39;00m \u001b[39mself\u001b[39m\u001b[39m.\u001b[39m_forward_hooks \u001b[39mor\u001b[39;00m \u001b[39mself\u001b[39m\u001b[39m.\u001b[39m_forward_pre_hooks\n\u001b[1;32m   1499\u001b[0m         \u001b[39mor\u001b[39;00m _global_backward_pre_hooks \u001b[39mor\u001b[39;00m _global_backward_hooks\n\u001b[1;32m   1500\u001b[0m         \u001b[39mor\u001b[39;00m _global_forward_hooks \u001b[39mor\u001b[39;00m _global_forward_pre_hooks):\n\u001b[0;32m-> 1501\u001b[0m     \u001b[39mreturn\u001b[39;00m forward_call(\u001b[39m*\u001b[39;49margs, \u001b[39m*\u001b[39;49m\u001b[39m*\u001b[39;49mkwargs)\n\u001b[1;32m   1502\u001b[0m \u001b[39m# Do not call functions when jit is used\u001b[39;00m\n\u001b[1;32m   1503\u001b[0m full_backward_hooks, non_full_backward_hooks \u001b[39m=\u001b[39m [], []\n",
      "\u001b[0;31mTypeError\u001b[0m: SelfAtt_model.forward() missing 2 required positional arguments: 'onehot_systreat' and 'condits'"
     ]
    }
   ],
   "source": [
    "from torchviz import make_dot\n",
    "from torchsummary import summary\n",
    "\n",
    "\n",
    "specie_onehot , systreat_onehot, data, y = dataset.__getitem__(6)\n",
    "\n",
    "specie_onehot = specie_onehot.to(device).unsqueeze(0)\n",
    "systreat_onehot = systreat_onehot.to(device).unsqueeze(0)\n",
    "data = data.to(device).unsqueeze(0)\n",
    "\n",
    "input_sizes = [\n",
    "    (specie_onehot.size(0), systreat_onehot.size(0), data.size(0))\n",
    "]\n",
    "summary(model, (1, 28, 28))"
   ]
  },
  {
   "cell_type": "code",
   "execution_count": 31,
   "metadata": {},
   "outputs": [
    {
     "name": "stdout",
     "output_type": "stream",
     "text": [
      "Collecting torchsummary\n",
      "  Downloading torchsummary-1.5.1-py3-none-any.whl (2.8 kB)\n",
      "Installing collected packages: torchsummary\n",
      "Successfully installed torchsummary-1.5.1\n"
     ]
    }
   ],
   "source": [
    "!pip install torchsummary"
   ]
  },
  {
   "cell_type": "code",
   "execution_count": 34,
   "metadata": {},
   "outputs": [
    {
     "ename": "IndexError",
     "evalue": "Dimension out of range (expected to be in range of [-1, 0], but got 1)",
     "output_type": "error",
     "traceback": [
      "\u001b[0;31m---------------------------------------------------------------------------\u001b[0m",
      "\u001b[0;31mIndexError\u001b[0m                                Traceback (most recent call last)",
      "Cell \u001b[0;32mIn[34], line 4\u001b[0m\n\u001b[1;32m      1\u001b[0m \u001b[38;5;28;01mfrom\u001b[39;00m \u001b[38;5;21;01mtorchsummary\u001b[39;00m \u001b[38;5;28;01mimport\u001b[39;00m summary\n\u001b[1;32m      3\u001b[0m \u001b[38;5;66;03m# Assuming your model is named 'model'\u001b[39;00m\n\u001b[0;32m----> 4\u001b[0m summary(model, input_size\u001b[38;5;241m=\u001b[39m[(specie_onehot\u001b[38;5;241m.\u001b[39msize(\u001b[38;5;241m0\u001b[39m), \u001b[43mspecie_onehot\u001b[49m\u001b[38;5;241;43m.\u001b[39;49m\u001b[43msize\u001b[49m\u001b[43m(\u001b[49m\u001b[38;5;241;43m1\u001b[39;49m\u001b[43m)\u001b[49m),\n\u001b[1;32m      5\u001b[0m                           (systreat_onehot\u001b[38;5;241m.\u001b[39msize(\u001b[38;5;241m0\u001b[39m), systreat_onehot\u001b[38;5;241m.\u001b[39msize(\u001b[38;5;241m1\u001b[39m)),\n\u001b[1;32m      6\u001b[0m                           (data\u001b[38;5;241m.\u001b[39msize(\u001b[38;5;241m0\u001b[39m), data\u001b[38;5;241m.\u001b[39msize(\u001b[38;5;241m1\u001b[39m))])\n",
      "\u001b[0;31mIndexError\u001b[0m: Dimension out of range (expected to be in range of [-1, 0], but got 1)"
     ]
    }
   ],
   "source": [
    "\n"
   ]
  },
  {
   "cell_type": "code",
   "execution_count": 28,
   "metadata": {},
   "outputs": [],
   "source": [
    "train_losses = []\n",
    "test_losses = []\n",
    "batch_losses = []"
   ]
  },
  {
   "cell_type": "code",
   "execution_count": 29,
   "metadata": {},
   "outputs": [],
   "source": [
    "lr = 0.00001"
   ]
  },
  {
   "cell_type": "code",
   "execution_count": 30,
   "metadata": {},
   "outputs": [
    {
     "data": {
      "image/png": "[encoded data removed]",
      "text/plain": [
       "<Figure size 640x480 with 1 Axes>"
      ]
     },
     "metadata": {},
     "output_type": "display_data"
    },
    {
     "ename": "KeyboardInterrupt",
     "evalue": "",
     "output_type": "error",
     "traceback": [
      "\u001b[0;31m---------------------------------------------------------------------------\u001b[0m",
      "\u001b[0;31mKeyboardInterrupt\u001b[0m                         Traceback (most recent call last)",
      "Cell \u001b[0;32mIn[30], line 1\u001b[0m\n\u001b[0;32m----> 1\u001b[0m \u001b[43mtrain\u001b[49m\u001b[43m(\u001b[49m\u001b[43mtrain_loader\u001b[49m\u001b[43m,\u001b[49m\u001b[43mtest_loader\u001b[49m\u001b[43m,\u001b[49m\u001b[43mmodel\u001b[49m\u001b[43m,\u001b[49m\u001b[43mbatch_size\u001b[49m\u001b[38;5;241;43m=\u001b[39;49m\u001b[43mbatch_size\u001b[49m\u001b[43m,\u001b[49m\u001b[43mnum_epochs\u001b[49m\u001b[38;5;241;43m=\u001b[39;49m\u001b[38;5;241;43m20\u001b[39;49m\u001b[43m)\u001b[49m\n",
      "Cell \u001b[0;32mIn[22], line 10\u001b[0m, in \u001b[0;36mtrain\u001b[0;34m(dataloader, test_dataloader, model, batch_size, num_epochs)\u001b[0m\n\u001b[1;32m      8\u001b[0m \u001b[38;5;28;01mfor\u001b[39;00m epoch \u001b[38;5;129;01min\u001b[39;00m \u001b[38;5;28mrange\u001b[39m(num_epochs):\n\u001b[1;32m      9\u001b[0m     losses \u001b[38;5;241m=\u001b[39m []\n\u001b[0;32m---> 10\u001b[0m     \u001b[38;5;28;01mfor\u001b[39;00m batch, (specie_onehot , systreat_onehot,condits, y) \u001b[38;5;129;01min\u001b[39;00m \u001b[38;5;28menumerate\u001b[39m(dataloader):\n\u001b[1;32m     12\u001b[0m         specie_onehot \u001b[38;5;241m=\u001b[39m specie_onehot\u001b[38;5;241m.\u001b[39mto(device)\n\u001b[1;32m     13\u001b[0m         systreat_onehot \u001b[38;5;241m=\u001b[39m systreat_onehot\u001b[38;5;241m.\u001b[39mto(device)\n",
      "File \u001b[0;32m~/miniforge3/envs/ML/lib/python3.10/site-packages/torch/utils/data/dataloader.py:634\u001b[0m, in \u001b[0;36m_BaseDataLoaderIter.__next__\u001b[0;34m(self)\u001b[0m\n\u001b[1;32m    631\u001b[0m \u001b[39mif\u001b[39;00m \u001b[39mself\u001b[39m\u001b[39m.\u001b[39m_sampler_iter \u001b[39mis\u001b[39;00m \u001b[39mNone\u001b[39;00m:\n\u001b[1;32m    632\u001b[0m     \u001b[39m# TODO(https://github.com/pytorch/pytorch/issues/76750)\u001b[39;00m\n\u001b[1;32m    633\u001b[0m     \u001b[39mself\u001b[39m\u001b[39m.\u001b[39m_reset()  \u001b[39m# type: ignore[call-arg]\u001b[39;00m\n\u001b[0;32m--> 634\u001b[0m data \u001b[39m=\u001b[39m \u001b[39mself\u001b[39;49m\u001b[39m.\u001b[39;49m_next_data()\n\u001b[1;32m    635\u001b[0m \u001b[39mself\u001b[39m\u001b[39m.\u001b[39m_num_yielded \u001b[39m+\u001b[39m\u001b[39m=\u001b[39m \u001b[39m1\u001b[39m\n\u001b[1;32m    636\u001b[0m \u001b[39mif\u001b[39;00m \u001b[39mself\u001b[39m\u001b[39m.\u001b[39m_dataset_kind \u001b[39m==\u001b[39m _DatasetKind\u001b[39m.\u001b[39mIterable \u001b[39mand\u001b[39;00m \\\n\u001b[1;32m    637\u001b[0m         \u001b[39mself\u001b[39m\u001b[39m.\u001b[39m_IterableDataset_len_called \u001b[39mis\u001b[39;00m \u001b[39mnot\u001b[39;00m \u001b[39mNone\u001b[39;00m \u001b[39mand\u001b[39;00m \\\n\u001b[1;32m    638\u001b[0m         \u001b[39mself\u001b[39m\u001b[39m.\u001b[39m_num_yielded \u001b[39m>\u001b[39m \u001b[39mself\u001b[39m\u001b[39m.\u001b[39m_IterableDataset_len_called:\n",
      "File \u001b[0;32m~/miniforge3/envs/ML/lib/python3.10/site-packages/torch/utils/data/dataloader.py:678\u001b[0m, in \u001b[0;36m_SingleProcessDataLoaderIter._next_data\u001b[0;34m(self)\u001b[0m\n\u001b[1;32m    676\u001b[0m \u001b[39mdef\u001b[39;00m \u001b[39m_next_data\u001b[39m(\u001b[39mself\u001b[39m):\n\u001b[1;32m    677\u001b[0m     index \u001b[39m=\u001b[39m \u001b[39mself\u001b[39m\u001b[39m.\u001b[39m_next_index()  \u001b[39m# may raise StopIteration\u001b[39;00m\n\u001b[0;32m--> 678\u001b[0m     data \u001b[39m=\u001b[39m \u001b[39mself\u001b[39;49m\u001b[39m.\u001b[39;49m_dataset_fetcher\u001b[39m.\u001b[39;49mfetch(index)  \u001b[39m# may raise StopIteration\u001b[39;00m\n\u001b[1;32m    679\u001b[0m     \u001b[39mif\u001b[39;00m \u001b[39mself\u001b[39m\u001b[39m.\u001b[39m_pin_memory:\n\u001b[1;32m    680\u001b[0m         data \u001b[39m=\u001b[39m _utils\u001b[39m.\u001b[39mpin_memory\u001b[39m.\u001b[39mpin_memory(data, \u001b[39mself\u001b[39m\u001b[39m.\u001b[39m_pin_memory_device)\n",
      "File \u001b[0;32m~/miniforge3/envs/ML/lib/python3.10/site-packages/torch/utils/data/_utils/fetch.py:51\u001b[0m, in \u001b[0;36m_MapDatasetFetcher.fetch\u001b[0;34m(self, possibly_batched_index)\u001b[0m\n\u001b[1;32m     49\u001b[0m         data \u001b[39m=\u001b[39m \u001b[39mself\u001b[39m\u001b[39m.\u001b[39mdataset\u001b[39m.\u001b[39m__getitems__(possibly_batched_index)\n\u001b[1;32m     50\u001b[0m     \u001b[39melse\u001b[39;00m:\n\u001b[0;32m---> 51\u001b[0m         data \u001b[39m=\u001b[39m [\u001b[39mself\u001b[39m\u001b[39m.\u001b[39mdataset[idx] \u001b[39mfor\u001b[39;00m idx \u001b[39min\u001b[39;00m possibly_batched_index]\n\u001b[1;32m     52\u001b[0m \u001b[39melse\u001b[39;00m:\n\u001b[1;32m     53\u001b[0m     data \u001b[39m=\u001b[39m \u001b[39mself\u001b[39m\u001b[39m.\u001b[39mdataset[possibly_batched_index]\n",
      "File \u001b[0;32m~/miniforge3/envs/ML/lib/python3.10/site-packages/torch/utils/data/_utils/fetch.py:51\u001b[0m, in \u001b[0;36m<listcomp>\u001b[0;34m(.0)\u001b[0m\n\u001b[1;32m     49\u001b[0m         data \u001b[39m=\u001b[39m \u001b[39mself\u001b[39m\u001b[39m.\u001b[39mdataset\u001b[39m.\u001b[39m__getitems__(possibly_batched_index)\n\u001b[1;32m     50\u001b[0m     \u001b[39melse\u001b[39;00m:\n\u001b[0;32m---> 51\u001b[0m         data \u001b[39m=\u001b[39m [\u001b[39mself\u001b[39;49m\u001b[39m.\u001b[39;49mdataset[idx] \u001b[39mfor\u001b[39;00m idx \u001b[39min\u001b[39;00m possibly_batched_index]\n\u001b[1;32m     52\u001b[0m \u001b[39melse\u001b[39;00m:\n\u001b[1;32m     53\u001b[0m     data \u001b[39m=\u001b[39m \u001b[39mself\u001b[39m\u001b[39m.\u001b[39mdataset[possibly_batched_index]\n",
      "File \u001b[0;32m~/miniforge3/envs/ML/lib/python3.10/site-packages/torch/utils/data/dataset.py:298\u001b[0m, in \u001b[0;36mSubset.__getitem__\u001b[0;34m(self, idx)\u001b[0m\n\u001b[1;32m    296\u001b[0m \u001b[39mif\u001b[39;00m \u001b[39misinstance\u001b[39m(idx, \u001b[39mlist\u001b[39m):\n\u001b[1;32m    297\u001b[0m     \u001b[39mreturn\u001b[39;00m \u001b[39mself\u001b[39m\u001b[39m.\u001b[39mdataset[[\u001b[39mself\u001b[39m\u001b[39m.\u001b[39mindices[i] \u001b[39mfor\u001b[39;00m i \u001b[39min\u001b[39;00m idx]]\n\u001b[0;32m--> 298\u001b[0m \u001b[39mreturn\u001b[39;00m \u001b[39mself\u001b[39;49m\u001b[39m.\u001b[39;49mdataset[\u001b[39mself\u001b[39;49m\u001b[39m.\u001b[39;49mindices[idx]]\n",
      "Cell \u001b[0;32mIn[8], line 24\u001b[0m, in \u001b[0;36mDataset.__getitem__\u001b[0;34m(self, idx)\u001b[0m\n\u001b[1;32m     22\u001b[0m cond_by_t \u001b[38;5;241m=\u001b[39m []\n\u001b[1;32m     23\u001b[0m \u001b[38;5;28;01mfor\u001b[39;00m t \u001b[38;5;129;01min\u001b[39;00m \u001b[38;5;28mrange\u001b[39m(\u001b[38;5;241m1\u001b[39m,\u001b[38;5;241m4\u001b[39m):\n\u001b[0;32m---> 24\u001b[0m     conditions \u001b[38;5;241m=\u001b[39m \u001b[38;5;28mself\u001b[39m\u001b[38;5;241m.\u001b[39mconditions[(\u001b[38;5;28mself\u001b[39m\u001b[38;5;241m.\u001b[39mconditions[\u001b[38;5;124m\"\u001b[39m\u001b[38;5;124mSystem\u001b[39m\u001b[38;5;124m\"\u001b[39m] \u001b[38;5;241m==\u001b[39m row[\u001b[38;5;124m\"\u001b[39m\u001b[38;5;124mSystem\u001b[39m\u001b[38;5;124m\"\u001b[39m]) \u001b[38;5;241m&\u001b[39m (\u001b[38;5;28mself\u001b[39m\u001b[38;5;241m.\u001b[39mconditions[\u001b[38;5;124m\"\u001b[39m\u001b[38;5;124mTreatment\u001b[39m\u001b[38;5;124m\"\u001b[39m] \u001b[38;5;241m==\u001b[39m \u001b[43mrow\u001b[49m\u001b[43m[\u001b[49m\u001b[38;5;124;43m\"\u001b[39;49m\u001b[38;5;124;43mTreatment\u001b[39;49m\u001b[38;5;124;43m\"\u001b[39;49m\u001b[43m]\u001b[49m) \u001b[38;5;241m&\u001b[39m (\u001b[38;5;28mself\u001b[39m\u001b[38;5;241m.\u001b[39mconditions[\u001b[38;5;124m\"\u001b[39m\u001b[38;5;124mTimeStamp\u001b[39m\u001b[38;5;124m\"\u001b[39m] \u001b[38;5;241m==\u001b[39m t)][columns]\n\u001b[1;32m     25\u001b[0m     \u001b[38;5;28;01mif\u001b[39;00m \u001b[38;5;28mlen\u001b[39m(conditions) \u001b[38;5;241m==\u001b[39m \u001b[38;5;241m0\u001b[39m:\n\u001b[1;32m     26\u001b[0m         cond_by_t\u001b[38;5;241m.\u001b[39mappend([\u001b[38;5;241m0\u001b[39m]\u001b[38;5;241m*\u001b[39m\u001b[38;5;28mlen\u001b[39m(columns))\n",
      "File \u001b[0;32m~/miniforge3/envs/ML/lib/python3.10/site-packages/pandas/core/series.py:967\u001b[0m, in \u001b[0;36mSeries.__getitem__\u001b[0;34m(self, key)\u001b[0m\n\u001b[1;32m    966\u001b[0m \u001b[39mdef\u001b[39;00m \u001b[39m__getitem__\u001b[39m(\u001b[39mself\u001b[39m, key):\n\u001b[0;32m--> 967\u001b[0m     check_deprecated_indexers(key)\n\u001b[1;32m    968\u001b[0m     key \u001b[39m=\u001b[39m com\u001b[39m.\u001b[39mapply_if_callable(key, \u001b[39mself\u001b[39m)\n\u001b[1;32m    970\u001b[0m     \u001b[39mif\u001b[39;00m key \u001b[39mis\u001b[39;00m \u001b[39mEllipsis\u001b[39m:\n",
      "File \u001b[0;32m~/miniforge3/envs/ML/lib/python3.10/site-packages/pandas/core/indexing.py:2670\u001b[0m, in \u001b[0;36mcheck_deprecated_indexers\u001b[0;34m(key)\u001b[0m\n\u001b[1;32m   2658\u001b[0m \u001b[39mif\u001b[39;00m (\n\u001b[1;32m   2659\u001b[0m     \u001b[39misinstance\u001b[39m(key, \u001b[39mset\u001b[39m)\n\u001b[1;32m   2660\u001b[0m     \u001b[39mor\u001b[39;00m \u001b[39misinstance\u001b[39m(key, \u001b[39mtuple\u001b[39m)\n\u001b[1;32m   2661\u001b[0m     \u001b[39mand\u001b[39;00m \u001b[39many\u001b[39m(\u001b[39misinstance\u001b[39m(x, \u001b[39mset\u001b[39m) \u001b[39mfor\u001b[39;00m x \u001b[39min\u001b[39;00m key)\n\u001b[1;32m   2662\u001b[0m ):\n\u001b[1;32m   2663\u001b[0m     warnings\u001b[39m.\u001b[39mwarn(\n\u001b[1;32m   2664\u001b[0m         \u001b[39m\"\u001b[39m\u001b[39mPassing a set as an indexer is deprecated and will raise in \u001b[39m\u001b[39m\"\u001b[39m\n\u001b[1;32m   2665\u001b[0m         \u001b[39m\"\u001b[39m\u001b[39ma future version. Use a list instead.\u001b[39m\u001b[39m\"\u001b[39m,\n\u001b[1;32m   2666\u001b[0m         \u001b[39mFutureWarning\u001b[39;00m,\n\u001b[1;32m   2667\u001b[0m         stacklevel\u001b[39m=\u001b[39mfind_stack_level(),\n\u001b[1;32m   2668\u001b[0m     )\n\u001b[1;32m   2669\u001b[0m \u001b[39mif\u001b[39;00m (\n\u001b[0;32m-> 2670\u001b[0m     \u001b[39misinstance\u001b[39;49m(key, \u001b[39mdict\u001b[39;49m)\n\u001b[1;32m   2671\u001b[0m     \u001b[39mor\u001b[39;00m \u001b[39misinstance\u001b[39m(key, \u001b[39mtuple\u001b[39m)\n\u001b[1;32m   2672\u001b[0m     \u001b[39mand\u001b[39;00m \u001b[39many\u001b[39m(\u001b[39misinstance\u001b[39m(x, \u001b[39mdict\u001b[39m) \u001b[39mfor\u001b[39;00m x \u001b[39min\u001b[39;00m key)\n\u001b[1;32m   2673\u001b[0m ):\n\u001b[1;32m   2674\u001b[0m     warnings\u001b[39m.\u001b[39mwarn(\n\u001b[1;32m   2675\u001b[0m         \u001b[39m\"\u001b[39m\u001b[39mPassing a dict as an indexer is deprecated and will raise in \u001b[39m\u001b[39m\"\u001b[39m\n\u001b[1;32m   2676\u001b[0m         \u001b[39m\"\u001b[39m\u001b[39ma future version. Use a list instead.\u001b[39m\u001b[39m\"\u001b[39m,\n\u001b[1;32m   2677\u001b[0m         \u001b[39mFutureWarning\u001b[39;00m,\n\u001b[1;32m   2678\u001b[0m         stacklevel\u001b[39m=\u001b[39mfind_stack_level(),\n\u001b[1;32m   2679\u001b[0m     )\n",
      "\u001b[0;31mKeyboardInterrupt\u001b[0m: "
     ]
    }
   ],
   "source": [
    "train(train_loader,test_loader,model,batch_size=batch_size,num_epochs=20)"
   ]
  },
  {
   "cell_type": "code",
   "execution_count": 50,
   "metadata": {},
   "outputs": [
    {
     "name": "stdout",
     "output_type": "stream",
     "text": [
      "Expecting property name enclosed in double quotes: line 586 column 4 (char 237842)\n"
     ]
    }
   ],
   "source": [
    "import json\n",
    "with open(\"project.ipynb\") as pynb:\n",
    "    try:\n",
    "        report = json.load(pynb)\n",
    "    except Exception as e:\n",
    "        print(str(e))"
   ]
  },
  {
   "cell_type": "code",
   "execution_count": 49,
   "metadata": {},
   "outputs": [
    {
     "ename": "NotJSONError",
     "evalue": "Notebook does not appear to be JSON: '{\\n    \"cells\": [\\n     {\\n      \"cell_...",
     "output_type": "error",
     "traceback": [
      "\u001b[0;31m---------------------------------------------------------------------------\u001b[0m",
      "\u001b[0;31mJSONDecodeError\u001b[0m                           Traceback (most recent call last)",
      "File \u001b[0;32m~/miniforge3/envs/ML/lib/python3.10/site-packages/nbformat/reader.py:20\u001b[0m, in \u001b[0;36mparse_json\u001b[0;34m(s, **kwargs)\u001b[0m\n\u001b[1;32m     19\u001b[0m \u001b[39mtry\u001b[39;00m:\n\u001b[0;32m---> 20\u001b[0m     nb_dict \u001b[39m=\u001b[39m json\u001b[39m.\u001b[39;49mloads(s, \u001b[39m*\u001b[39;49m\u001b[39m*\u001b[39;49mkwargs)\n\u001b[1;32m     21\u001b[0m \u001b[39mexcept\u001b[39;00m \u001b[39mValueError\u001b[39;00m \u001b[39mas\u001b[39;00m e:\n",
      "File \u001b[0;32m~/miniforge3/envs/ML/lib/python3.10/json/__init__.py:346\u001b[0m, in \u001b[0;36mloads\u001b[0;34m(s, cls, object_hook, parse_float, parse_int, parse_constant, object_pairs_hook, **kw)\u001b[0m\n\u001b[1;32m    343\u001b[0m \u001b[39mif\u001b[39;00m (\u001b[39mcls\u001b[39m \u001b[39mis\u001b[39;00m \u001b[39mNone\u001b[39;00m \u001b[39mand\u001b[39;00m object_hook \u001b[39mis\u001b[39;00m \u001b[39mNone\u001b[39;00m \u001b[39mand\u001b[39;00m\n\u001b[1;32m    344\u001b[0m         parse_int \u001b[39mis\u001b[39;00m \u001b[39mNone\u001b[39;00m \u001b[39mand\u001b[39;00m parse_float \u001b[39mis\u001b[39;00m \u001b[39mNone\u001b[39;00m \u001b[39mand\u001b[39;00m\n\u001b[1;32m    345\u001b[0m         parse_constant \u001b[39mis\u001b[39;00m \u001b[39mNone\u001b[39;00m \u001b[39mand\u001b[39;00m object_pairs_hook \u001b[39mis\u001b[39;00m \u001b[39mNone\u001b[39;00m \u001b[39mand\u001b[39;00m \u001b[39mnot\u001b[39;00m kw):\n\u001b[0;32m--> 346\u001b[0m     \u001b[39mreturn\u001b[39;00m _default_decoder\u001b[39m.\u001b[39;49mdecode(s)\n\u001b[1;32m    347\u001b[0m \u001b[39mif\u001b[39;00m \u001b[39mcls\u001b[39m \u001b[39mis\u001b[39;00m \u001b[39mNone\u001b[39;00m:\n",
      "File \u001b[0;32m~/miniforge3/envs/ML/lib/python3.10/json/decoder.py:337\u001b[0m, in \u001b[0;36mJSONDecoder.decode\u001b[0;34m(self, s, _w)\u001b[0m\n\u001b[1;32m    333\u001b[0m \u001b[39m\u001b[39m\u001b[39m\"\"\"Return the Python representation of ``s`` (a ``str`` instance\u001b[39;00m\n\u001b[1;32m    334\u001b[0m \u001b[39mcontaining a JSON document).\u001b[39;00m\n\u001b[1;32m    335\u001b[0m \n\u001b[1;32m    336\u001b[0m \u001b[39m\"\"\"\u001b[39;00m\n\u001b[0;32m--> 337\u001b[0m obj, end \u001b[39m=\u001b[39m \u001b[39mself\u001b[39;49m\u001b[39m.\u001b[39;49mraw_decode(s, idx\u001b[39m=\u001b[39;49m_w(s, \u001b[39m0\u001b[39;49m)\u001b[39m.\u001b[39;49mend())\n\u001b[1;32m    338\u001b[0m end \u001b[39m=\u001b[39m _w(s, end)\u001b[39m.\u001b[39mend()\n",
      "File \u001b[0;32m~/miniforge3/envs/ML/lib/python3.10/json/decoder.py:353\u001b[0m, in \u001b[0;36mJSONDecoder.raw_decode\u001b[0;34m(self, s, idx)\u001b[0m\n\u001b[1;32m    352\u001b[0m \u001b[39mtry\u001b[39;00m:\n\u001b[0;32m--> 353\u001b[0m     obj, end \u001b[39m=\u001b[39m \u001b[39mself\u001b[39;49m\u001b[39m.\u001b[39;49mscan_once(s, idx)\n\u001b[1;32m    354\u001b[0m \u001b[39mexcept\u001b[39;00m \u001b[39mStopIteration\u001b[39;00m \u001b[39mas\u001b[39;00m err:\n",
      "\u001b[0;31mJSONDecodeError\u001b[0m: Expecting property name enclosed in double quotes: line 586 column 4 (char 237842)",
      "\nThe above exception was the direct cause of the following exception:\n",
      "\u001b[0;31mNotJSONError\u001b[0m                              Traceback (most recent call last)",
      "Cell \u001b[0;32mIn[49], line 7\u001b[0m\n\u001b[1;32m      4\u001b[0m notebook_file_path \u001b[38;5;241m=\u001b[39m \u001b[38;5;124m'\u001b[39m\u001b[38;5;124mproject.ipynb\u001b[39m\u001b[38;5;124m'\u001b[39m\n\u001b[1;32m      6\u001b[0m \u001b[38;5;28;01mwith\u001b[39;00m \u001b[38;5;28mopen\u001b[39m(notebook_file_path, \u001b[38;5;124m'\u001b[39m\u001b[38;5;124mr\u001b[39m\u001b[38;5;124m'\u001b[39m, encoding\u001b[38;5;241m=\u001b[39m\u001b[38;5;124m'\u001b[39m\u001b[38;5;124mutf-8\u001b[39m\u001b[38;5;124m'\u001b[39m) \u001b[38;5;28;01mas\u001b[39;00m f:\n\u001b[0;32m----> 7\u001b[0m     notebook_content \u001b[38;5;241m=\u001b[39m \u001b[43mnbformat\u001b[49m\u001b[38;5;241;43m.\u001b[39;49m\u001b[43mread\u001b[49m\u001b[43m(\u001b[49m\u001b[43mf\u001b[49m\u001b[43m,\u001b[49m\u001b[43m \u001b[49m\u001b[43mas_version\u001b[49m\u001b[38;5;241;43m=\u001b[39;49m\u001b[38;5;241;43m4\u001b[39;49m\u001b[43m)\u001b[49m\n\u001b[1;32m      9\u001b[0m \u001b[38;5;66;03m# Process and validate the cells\u001b[39;00m\n\u001b[1;32m     10\u001b[0m valid_cells \u001b[38;5;241m=\u001b[39m []\n",
      "File \u001b[0;32m~/miniforge3/envs/ML/lib/python3.10/site-packages/nbformat/__init__.py:171\u001b[0m, in \u001b[0;36mread\u001b[0;34m(fp, as_version, capture_validation_error, **kwargs)\u001b[0m\n\u001b[1;32m    168\u001b[0m     \u001b[39mwith\u001b[39;00m \u001b[39mopen\u001b[39m(fp, encoding\u001b[39m=\u001b[39m\u001b[39m\"\u001b[39m\u001b[39mutf-8\u001b[39m\u001b[39m\"\u001b[39m) \u001b[39mas\u001b[39;00m f:\n\u001b[1;32m    169\u001b[0m         \u001b[39mreturn\u001b[39;00m reads(f\u001b[39m.\u001b[39mread(), as_version, capture_validation_error, \u001b[39m*\u001b[39m\u001b[39m*\u001b[39mkwargs)\n\u001b[0;32m--> 171\u001b[0m \u001b[39mreturn\u001b[39;00m reads(buf, as_version, capture_validation_error, \u001b[39m*\u001b[39;49m\u001b[39m*\u001b[39;49mkwargs)\n",
      "File \u001b[0;32m~/miniforge3/envs/ML/lib/python3.10/site-packages/nbformat/__init__.py:89\u001b[0m, in \u001b[0;36mreads\u001b[0;34m(s, as_version, capture_validation_error, **kwargs)\u001b[0m\n\u001b[1;32m     63\u001b[0m \u001b[39mdef\u001b[39;00m \u001b[39mreads\u001b[39m(s, as_version, capture_validation_error\u001b[39m=\u001b[39m\u001b[39mNone\u001b[39;00m, \u001b[39m*\u001b[39m\u001b[39m*\u001b[39mkwargs):\n\u001b[1;32m     64\u001b[0m \u001b[39m    \u001b[39m\u001b[39m\"\"\"Read a notebook from a string and return the NotebookNode object as the given version.\u001b[39;00m\n\u001b[1;32m     65\u001b[0m \n\u001b[1;32m     66\u001b[0m \u001b[39m    The string can contain a notebook of any version.\u001b[39;00m\n\u001b[0;32m   (...)\u001b[0m\n\u001b[1;32m     87\u001b[0m \u001b[39m        The notebook that was read.\u001b[39;00m\n\u001b[1;32m     88\u001b[0m \u001b[39m    \"\"\"\u001b[39;00m\n\u001b[0;32m---> 89\u001b[0m     nb \u001b[39m=\u001b[39m reader\u001b[39m.\u001b[39;49mreads(s, \u001b[39m*\u001b[39;49m\u001b[39m*\u001b[39;49mkwargs)\n\u001b[1;32m     90\u001b[0m     \u001b[39mif\u001b[39;00m as_version \u001b[39mis\u001b[39;00m \u001b[39mnot\u001b[39;00m NO_CONVERT:\n\u001b[1;32m     91\u001b[0m         nb \u001b[39m=\u001b[39m convert(nb, as_version)\n",
      "File \u001b[0;32m~/miniforge3/envs/ML/lib/python3.10/site-packages/nbformat/reader.py:76\u001b[0m, in \u001b[0;36mreads\u001b[0;34m(s, **kwargs)\u001b[0m\n\u001b[1;32m     51\u001b[0m \u001b[39m\u001b[39m\u001b[39m\"\"\"Read a notebook from a json string and return the\u001b[39;00m\n\u001b[1;32m     52\u001b[0m \u001b[39mNotebookNode object.\u001b[39;00m\n\u001b[1;32m     53\u001b[0m \n\u001b[0;32m   (...)\u001b[0m\n\u001b[1;32m     72\u001b[0m \u001b[39m    Specified major version is invalid or unsupported.\u001b[39;00m\n\u001b[1;32m     73\u001b[0m \u001b[39m\"\"\"\u001b[39;00m\n\u001b[1;32m     74\u001b[0m \u001b[39mfrom\u001b[39;00m \u001b[39m.\u001b[39;00m \u001b[39mimport\u001b[39;00m NBFormatError, versions\n\u001b[0;32m---> 76\u001b[0m nb_dict \u001b[39m=\u001b[39m parse_json(s, \u001b[39m*\u001b[39;49m\u001b[39m*\u001b[39;49mkwargs)\n\u001b[1;32m     77\u001b[0m (major, minor) \u001b[39m=\u001b[39m get_version(nb_dict)\n\u001b[1;32m     78\u001b[0m \u001b[39mif\u001b[39;00m major \u001b[39min\u001b[39;00m versions:\n",
      "File \u001b[0;32m~/miniforge3/envs/ML/lib/python3.10/site-packages/nbformat/reader.py:26\u001b[0m, in \u001b[0;36mparse_json\u001b[0;34m(s, **kwargs)\u001b[0m\n\u001b[1;32m     24\u001b[0m     \u001b[39mif\u001b[39;00m \u001b[39mlen\u001b[39m(message) \u001b[39m>\u001b[39m \u001b[39m80\u001b[39m:  \u001b[39m# noqa\u001b[39;00m\n\u001b[1;32m     25\u001b[0m         message \u001b[39m=\u001b[39m message[:\u001b[39m77\u001b[39m] \u001b[39m+\u001b[39m \u001b[39m\"\u001b[39m\u001b[39m...\u001b[39m\u001b[39m\"\u001b[39m\n\u001b[0;32m---> 26\u001b[0m     \u001b[39mraise\u001b[39;00m NotJSONError(message) \u001b[39mfrom\u001b[39;00m \u001b[39me\u001b[39;00m\n\u001b[1;32m     27\u001b[0m \u001b[39mreturn\u001b[39;00m nb_dict\n",
      "\u001b[0;31mNotJSONError\u001b[0m: Notebook does not appear to be JSON: '{\\n    \"cells\": [\\n     {\\n      \"cell_..."
     ]
    }
   ],
   "source": [
    "import nbformat\n",
    "\n",
    "# Load the notebook file\n",
    "notebook_file_path = 'project.ipynb'\n",
    "\n",
    "with open(notebook_file_path, 'r', encoding='utf-8') as f:\n",
    "    notebook_content = nbformat.read(f, as_version=4)\n",
    "\n",
    "# Process and validate the cells\n",
    "valid_cells = []\n",
    "\n",
    "for cell in notebook_content.cells:\n",
    "    if cell.cell_type in {'code', 'markdown'}:\n",
    "        valid_cells.append(cell)\n",
    "\n",
    "# Create a new valid Jupyter Notebook file\n",
    "new_notebook = nbformat.v4.new_notebook(cells=valid_cells)\n",
    "\n",
    "# Save the corrected Jupyter Notebook file\n",
    "new_notebook_file_path = 'corrected_project.ipynb'\n",
    "\n",
    "with open(new_notebook_file_path, 'w', encoding='utf-8') as f:\n",
    "    nbformat.write(new_notebook, f)\n",
    "\n",
    "print(f\"Corrections made and saved to {new_notebook_file_path}\")"
   ]
  }
 ],
 "metadata": {
  "kernelspec": {
   "display_name": "Python 3.10.9 ('ML')",
   "language": "python",
   "name": "python3"
  },
  "language_info": {
   "codemirror_mode": {
    "name": "ipython",
    "version": 3
   },
   "file_extension": ".py",
   "mimetype": "text/x-python",
   "name": "python",
   "nbconvert_exporter": "python",
   "pygments_lexer": "ipython3",
   "version": "3.10.9"
  },
  "orig_nbformat": 4,
  "vscode": {
   "interpreter": {
    "hash": "da600ade1a771c82ddf6d22a5a41f856afbf3528a3611e1c80e3ac6da17c9450"
   }
  }
 },
 "nbformat": 4,
 "nbformat_minor": 2
}
