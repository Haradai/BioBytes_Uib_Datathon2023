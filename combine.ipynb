{
 "cells": [
  {
   "cell_type": "code",
   "execution_count": null,
   "metadata": {},
   "outputs": [],
   "source": [
    "import pandas as pd\n",
    "import numpy as np"
   ]
  },
  {
   "cell_type": "code",
   "execution_count": null,
   "metadata": {},
   "outputs": [],
   "source": [
    "# def safe_mean(x):\n",
    "#     try:\n",
    "#         return pd.to_numeric(x, errors='coerce').mean()\n",
    "#     except:\n",
    "#         return np.nan\n",
    "\n",
    "# Grab mean of all 3 ABC times per value\n",
    "# df['grouped_sample_name'] = df['sample_name'].str[:4]\n",
    "# cols = df.columns.drop(['sample_name', 'grouped_sample_name'])\n",
    "# df[cols] = df[cols].apply(pd.to_numeric, errors='coerce')\n",
    "# df_mean = df.groupby('grouped_sample_name').agg(safe_mean).reset_index()\n",
    "\n",
    "# print(df_mean.head())\n",
    "\n",
    "\n",
    "# TODO look for outliers"
   ]
  },
  {
   "cell_type": "code",
   "execution_count": null,
   "metadata": {},
   "outputs": [],
   "source": [
    "df = pd.read_csv(\"competition_dataset/abundance_table.csv\", index_col=0)\n",
    "\n",
    "# grab only when species rank\n",
    "df = df[df[\"Taxonomic Rank\"] == \"S\"]\n",
    "\n",
    "# drop now we know its S for all\n",
    "df = df.drop(columns=[\"Taxonomic Rank\"])\n",
    "\n",
    "# transpose\n",
    "df = df.T\n",
    "\n",
    "# #replace s with 0 since we dont\n",
    "# df = df.replace(\"S\",0)\n",
    "df = df.replace(np.NaN, 0)\n",
    "\n",
    "\n",
    "# fixup\n",
    "df.columns = df.columns.str.strip()\n",
    "df = df.reset_index()\n",
    "df = df.drop(0)\n",
    "df = df.rename(columns={\"index\": \"sample_name\"})\n",
    "\n",
    "# Only grab A\n",
    "df_A = df[df[\"sample_name\"].str[-1] == \"A\"]  # replce this with A/B/C\n",
    "\n",
    "df_A[\"sample_name\"] = df_A[\"sample_name\"].str[:4]\n",
    "\n",
    "print(df_A)"
   ]
  },
  {
   "cell_type": "code",
   "execution_count": null,
   "metadata": {},
   "outputs": [],
   "source": [
    "metadata = pd.read_csv(\"competition_dataset/env_parameter_sample.csv\")\n",
    "\n",
    "metadata = metadata[metadata[\"sample_name\"] != \"No_sample\"]"
   ]
  },
  {
   "cell_type": "code",
   "execution_count": null,
   "metadata": {},
   "outputs": [],
   "source": [
    "combined_df = pd.merge(metadata, df_A, on=\"sample_name\", how=\"outer\")\n",
    "\n",
    "print(combined_df)\n",
    "\n",
    "combined_df.to_csv(\"out/test_merge.csv\", sep=\";\")"
   ]
  }
 ],
 "metadata": {
  "kernelspec": {
   "display_name": "Python 3",
   "language": "python",
   "name": "python3"
  },
  "language_info": {
   "codemirror_mode": {
    "name": "ipython",
    "version": 3
   },
   "file_extension": ".py",
   "mimetype": "text/x-python",
   "name": "python",
   "nbconvert_exporter": "python",
   "pygments_lexer": "ipython3",
   "version": "3.10.12"
  }
 },
 "nbformat": 4,
 "nbformat_minor": 2
}
